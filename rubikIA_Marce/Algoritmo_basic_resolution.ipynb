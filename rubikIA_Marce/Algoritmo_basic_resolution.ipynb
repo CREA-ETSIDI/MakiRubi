{
 "cells": [
  {
   "cell_type": "markdown",
   "id": "2de4ad18",
   "metadata": {},
   "source": [
    "# Algoritmo básico para resolver cubo de rubik 3 x 3\n",
    "\n",
    "Basado en https://blog.kubekings.com/como-hacer-el-cubo-de-rubik/\n",
    "\n",
    "Condiciones de contorno: la cara **blanca del cubo** se encuentra en la parte inferior del cubo.\n",
    "\n",
    "Los movimientos clockwise son:\n",
    "- U (rotación cara superior)\n",
    "- L (rotación cara izq)\n",
    "- R (rotación cara dcha)\n",
    "- F (rotación cara frontal)\n",
    "- B (rotación cara trasera)\n",
    "- D (rotación cara inferior)\n",
    "\n",
    "Los movimientos anti-clockwise son los mismos pero con apóstrofe (') o con un signo menos delante (- #): U', L', R', F', B', D'."
   ]
  },
  {
   "cell_type": "code",
   "execution_count": 1,
   "id": "2ef9ee95",
   "metadata": {},
   "outputs": [],
   "source": [
    "# Para empezar: Mezclar cubo"
   ]
  },
  {
   "cell_type": "code",
   "execution_count": null,
   "id": "37a89911",
   "metadata": {},
   "outputs": [],
   "source": [
    "# Revisar: Construir matriz/tensor"
   ]
  },
  {
   "cell_type": "markdown",
   "id": "8fc2c4ca",
   "metadata": {},
   "source": [
    "## 1. Resolver cara blanca (inferior)\n",
    "\n",
    "Son pasos sencillos:\n",
    "\n",
    "1. Orientar cubo cara blanca en la parte inferior\n",
    "2. Resolver las aristas blancas en su posición correcta\n",
    "3. Resolver las esquinas blancas en su posición correcta"
   ]
  },
  {
   "cell_type": "code",
   "execution_count": 2,
   "id": "1d867342",
   "metadata": {},
   "outputs": [],
   "source": [
    "# Primer paso: Orientar cubo cara blanca en la parte inferior"
   ]
  },
  {
   "cell_type": "code",
   "execution_count": 3,
   "id": "6c0054c5",
   "metadata": {},
   "outputs": [],
   "source": [
    "# Segundo paso: Resolver las aristas blancas en su posición correcta"
   ]
  },
  {
   "cell_type": "code",
   "execution_count": 5,
   "id": "82a6871c",
   "metadata": {},
   "outputs": [],
   "source": [
    "# Tercer paso: Resolver las esquinas blancas en su posición correcta"
   ]
  },
  {
   "cell_type": "code",
   "execution_count": null,
   "id": "12ed1793",
   "metadata": {},
   "outputs": [],
   "source": [
    "# Revisar"
   ]
  },
  {
   "cell_type": "markdown",
   "id": "deaa818f",
   "metadata": {},
   "source": [
    "## 2. Algoritmo aristas caras laterales\n",
    "\n",
    "Se trata de resolver las aristas de todas las caras laterales del cubo (la superior NO)\n",
    "\n",
    "Sin cambiar la posición del cubo:\n",
    "\n",
    "1. Establecer arista a colocar\n",
    "2. Posicionar arista encima del centro cuyo color coincida con el del arista\n",
    "    1. Si se encuentra en la cara superior, continuar al siguiente paso.\n",
    "    2. Si no se encuentra en la cara superior, se encontrará en el sitio de otra arista. Llevarla a la cara superior.\n",
    "        1. Posicionar el cubo con la cara donde se encuentra la arista al frente.\n",
    "        2. Si la arista intrusa se encuentra a la dcha., aplicar algoritmo: U R U’ R’ U’ F’ U F\n",
    "        3. Si la arista intrusa se encuentra a la izq., aplicar  algoritmo: U’ L’ U L U F U’ F\n",
    "3. Identificar a que diagonal tiene que bajar (izq o dcha)\n",
    "    1. Si es bajar a diagonal dcha., aplicar algoritmo: U R U’ R’ U’ F’ U F\n",
    "    2. Si es bajar a diagonal izq., aplicar  algoritmo: U’ L’ U L U F U’ F\n",
    "4. Repetir lo anterior hasta que todas las aristas de las caras laterales queden resueltas.\n"
   ]
  },
  {
   "cell_type": "code",
   "execution_count": 12,
   "id": "6402c162",
   "metadata": {},
   "outputs": [
    {
     "data": {
      "text/plain": [
       "'\\nCrear la función que al llamarla:\\n\\n Primer paso: establecer arista a colocar\\n Segundo paso: Posicionar arista encima del centro\\n Tercer paso: Aplicar algoritmo\\n \\n'"
      ]
     },
     "execution_count": 12,
     "metadata": {},
     "output_type": "execute_result"
    }
   ],
   "source": [
    "\"\"\"\n",
    "Crear la función que al llamarla:\n",
    "\n",
    " Primer paso: establece arista a colocar\n",
    " Segundo paso: Posiciona arista encima del centro\n",
    " Tercer paso: Aplica algoritmo\n",
    " \n",
    "\"\"\""
   ]
  },
  {
   "cell_type": "code",
   "execution_count": 7,
   "id": "0d071f3d",
   "metadata": {},
   "outputs": [],
   "source": [
    "# Llamar a la función para cada arista"
   ]
  },
  {
   "cell_type": "markdown",
   "id": "02fec536",
   "metadata": {},
   "source": [
    "## 3. Algoritmo aristas superiores\n",
    "\n",
    "Se trata de resolver la cruz superior\n",
    "\n",
    "Sin cambiar la posición del cubo:\n",
    "\n",
    "1. Hacer la cruz amarilla. Situaciones que se pueden dar:\n",
    "    1. Lo primero que nos puede pasar es que la cruz ya la tengamos hecha. En este caso continua con el siguiente paso.\n",
    "    2. Situación línea de color amarillo.\n",
    "        1. Orientar el cubo para que la línea sea paralela a nuestra cara frontal.\n",
    "        2. Aplicar F R U R’ U’ F\n",
    "    3. Situación L amarilla.\n",
    "        1. Orientar el cubo para que las aristas amarillas queden fondo izquierda\n",
    "        2. Aplicar DOS VECES F R U R’ U’ F’\n",
    "    4. Situación el punto.\n",
    "        1. Aplicar F R U R’ U’ F’\n",
    "        2. Aplicar DOS VECES U\n",
    "        3. Aplicar DOS VECES F R U R’ U’ F’\n",
    "2. Orientar la cruz\n"
   ]
  },
  {
   "cell_type": "markdown",
   "id": "ad321afd",
   "metadata": {},
   "source": [
    "## 4. Algoritmo esquinas superiores\n",
    "1. Poner cada esquina en su posición correcta\n",
    "2. Orientar las esquinas.\n"
   ]
  },
  {
   "cell_type": "code",
   "execution_count": null,
   "id": "627f548e",
   "metadata": {},
   "outputs": [],
   "source": []
  }
 ],
 "metadata": {
  "kernelspec": {
   "display_name": "Python 3 (ipykernel)",
   "language": "python",
   "name": "python3"
  },
  "language_info": {
   "codemirror_mode": {
    "name": "ipython",
    "version": 3
   },
   "file_extension": ".py",
   "mimetype": "text/x-python",
   "name": "python",
   "nbconvert_exporter": "python",
   "pygments_lexer": "ipython3",
   "version": "3.8.13"
  }
 },
 "nbformat": 4,
 "nbformat_minor": 5
}
