{
 "cells": [
  {
   "cell_type": "markdown",
   "metadata": {
    "id": "usYEPOiQZn5t"
   },
   "source": [
    "# **Self-Supervision is All You Need for Solving Rubik's Cube**\n",
    "\n",
    "**Date created:** 2022/01/27<br>\n",
    "**Last modified:** 2022/08/13<br>\n",
    "\n",
    "---\n",
    "## **Description**\n",
    "\n",
    "This notebook is intended to demonstrate the proposed method and to allow for reproducible experiments.\n",
    "\n",
    "For the purpose of demonstration, the number of training steps is set to $10000$ and the beam width is set to $2^{12}$ by default.\n",
    "If you want to replicate our best reported result, set ```TrainConfig.num_train_steps``` to $1000000$ and ```top_k``` to $2^{18}$. Note, however, that it will take several days to finish both training and inference.\n",
    "\n",
    "## **Training & Inference**\n",
    "\n",
    "The DNN is trained to predict the last move of a scramble based on the corresponding problem state. In inference, the inverse of the predicted last move is applied to the given state.\n",
    "\n",
    "## **Test**\n",
    "\n",
    "The trained model is evaluated on [1,000 test cases provided by Forest Agostinelli, et al. (2019)](https://github.com/forestagostinelli/DeepCubeA/) and compared to the result of DeepCubeA and an optimal solver in three respects: a) solution lengths, b) number of nodes, and c) computation time.\n",
    "\n",
    "---\n",
    "### ***Q. How much time does this notebook take?***\n",
    "\n",
    "For reference, with one 4-core CPU and one GPU ([NVIDIA Tesla P100 PCIe 16GB](https://images.nvidia.com/content/tesla/pdf/nvidia-tesla-p100-PCIe-datasheet.pdf)), it took **about 3 hours** to run the entire notebook, including training, inference, and comparison."
   ]
  },
  {
   "cell_type": "markdown",
   "metadata": {
    "id": "p03YuJ_5Zn5w"
   },
   "source": [
    "## Setup"
   ]
  },
  {
   "cell_type": "markdown",
   "metadata": {
    "id": "gxS097YYZn5x"
   },
   "source": [
    "Parameters"
   ]
  },
  {
   "cell_type": "code",
   "execution_count": 1,
   "metadata": {
    "id": "yrnE4BBvZn5z"
   },
   "outputs": [],
   "source": [
    "# problem\n",
    "METRIC = \"QTM\"\n",
    "SCRAMBLE_LENGTH = {\"QTM\": 26, \"HTM\": 20}[METRIC]\n",
    "# training\n",
    "class TrainConfig:\n",
    "    learning_rate = 1e-3\n",
    "    batch_size_per_depth = 1000\n",
    "    num_train_steps = 1000000\n",
    "    interval_steps_save = 1000\n",
    "    interval_steps_plot = 100\n",
    "    scramble_length = SCRAMBLE_LENGTH\n",
    "\n",
    "# inference\n",
    "## The wider the beam search, the more time required, but the shorter the solution.\n",
    "top_k = 2**10\n",
    "## This can be any number greater than or equal to the Gods Number.\n",
    "max_depth = SCRAMBLE_LENGTH * 2\n"
   ]
  },
  {
   "cell_type": "markdown",
   "metadata": {
    "id": "5eQ69yzUZn52"
   },
   "source": [
    "Modules"
   ]
  },
  {
   "cell_type": "code",
   "execution_count": 2,
   "metadata": {
    "cellView": "form",
    "colab": {
     "base_uri": "https://localhost:8080/"
    },
    "id": "5qBHA9qgZn53",
    "outputId": "03138557-a8f3-42b3-df11-f06bb01554b6"
   },
   "outputs": [
    {
     "name": "stdout",
     "output_type": "stream",
     "text": [
      "device: cpu\n",
      "multiprocessing.cpu_count(): 8\n"
     ]
    },
    {
     "name": "stderr",
     "output_type": "stream",
     "text": [
      "\"nvidia-smi\" no se reconoce como un comando interno o externo,\n",
      "programa o archivo por lotes ejecutable.\n"
     ]
    }
   ],
   "source": [
    "#@title\n",
    "import time\n",
    "import random\n",
    "import pickle\n",
    "import numpy as np\n",
    "import multiprocessing\n",
    "from copy import deepcopy\n",
    "from tqdm import tqdm, trange\n",
    "from IPython.display import clear_output\n",
    "\n",
    "import torch\n",
    "from torch import nn\n",
    "device = torch.device('cuda:0' if torch.cuda.is_available() else 'cpu')\n",
    "\n",
    "print(f'device: {device}')\n",
    "print(f'multiprocessing.cpu_count(): {multiprocessing.cpu_count()}')\n",
    "!nvidia-smi -L\n"
   ]
  },
  {
   "cell_type": "markdown",
   "metadata": {
    "id": "jxaPcdlaZn55"
   },
   "source": [
    "pip3 install torch torchvision torchaudio --extra-index-url https://download.pytorch.org/whl/cu113Visualization functions"
   ]
  },
  {
   "cell_type": "code",
   "execution_count": 3,
   "metadata": {
    "cellView": "form",
    "id": "Xxljm49jZn56"
   },
   "outputs": [],
   "source": [
    "#@title\n",
    "import matplotlib.pyplot as plt\n",
    "import matplotlib as mpl\n",
    "from cycler import cycler\n",
    "\n",
    "mpl.rcParams[\"axes.prop_cycle\"] = cycler(\n",
    "    color=[\"#212121\", \"#2180FE\", \"#EB4275\"])\n",
    "\n",
    "\n",
    "def plt_history(h):\n",
    "    fig, axes = plt.subplots(1, 1, figsize=[4, 4])\n",
    "    axes.plot(h)\n",
    "    axes.set_xscale(\"log\")\n",
    "    axes.set_title(\"Loss\")\n",
    "    plt.show()\n",
    "\n",
    "\n",
    "def regression_coef(x, y):\n",
    "    coef = np.array(y) / np.array(x)\n",
    "    coef = np.mean(np.squeeze(coef))\n",
    "    return coef\n",
    "\n",
    "\n",
    "def plot_result(solutions_all, num_nodes_all, times_all):\n",
    "    fig, ax = plt.subplots(2, 3, figsize=(16, 9))\n",
    "    ax = ax.ravel()\n",
    "    for i, result in enumerate([solutions_all, num_nodes_all, times_all]):\n",
    "        result = [e for e in result if e is not None]\n",
    "        if i == 0:  # soltions\n",
    "            result = [len(e) for e in result if e is not None]\n",
    "            ax[i].axvline(\n",
    "                np.mean(result),\n",
    "                color=\"#00ffff\",\n",
    "                label=f\"mean={round(np.mean(result),3)}\",\n",
    "            )\n",
    "            result = {i: result.count(i)\n",
    "                      for i in range(min(result), max(result) + 1)}\n",
    "            ax[i].bar(\n",
    "                result.keys(),\n",
    "                result.values(),\n",
    "                width=1.0,\n",
    "                label=f\"Success: {len([len(e) for e in solutions_all if e is not None])}/{len(solutions_all)}\",\n",
    "            )\n",
    "            ax[i].legend()\n",
    "            ax[i].set_xlabel(\"Solution length\")\n",
    "            ax[i].set_ylabel(\"Frequency\")\n",
    "        else:\n",
    "            ax[i].hist(result)\n",
    "            ax[i].axvline(\n",
    "                np.mean(result),\n",
    "                color=\"#00ffff\",\n",
    "                label=f\"mean={round(np.mean(result),3)}\",\n",
    "            )\n",
    "            ax[i].legend()\n",
    "            if i == 1:\n",
    "                ax[i].set_xlabel(\"No. of nodes\")\n",
    "            else:\n",
    "                ax[i].set_xlabel(\"Calculation time (s)\")\n",
    "\n",
    "    solution_lengths, num_nodes, times = [\n",
    "        [e for e in result if e is not None]\n",
    "        for result in [solutions_all, num_nodes_all, times_all]\n",
    "    ]\n",
    "    solution_lengths = [len(e) for e in solution_lengths]\n",
    "\n",
    "    for (xlabel, ylabel), (x, y) in [\n",
    "        [(\"Solution lengths\", \"No. of nodes\"), (solution_lengths, num_nodes)],\n",
    "        [(\"No. of nodes\", \"Calculation time (s)\"), (num_nodes, times)],\n",
    "        [(\"Calculation time (s)\", \"Solution lengths\"), (times, solution_lengths)],\n",
    "    ]:\n",
    "        i += 1\n",
    "        ax[i].set_xlabel(xlabel)\n",
    "        ax[i].set_ylabel(ylabel)\n",
    "        x_range = np.linspace(0, max(x), 100)\n",
    "        ax[i].plot(\n",
    "            x_range,\n",
    "            x_range * regression_coef(x, y),\n",
    "            label=f\"slope={round(regression_coef(x, y), 5)}\",\n",
    "            color=\"#00ffff\",\n",
    "        )\n",
    "        ax[i].scatter(x, y)\n",
    "        ax[i].legend()\n",
    "\n",
    "    plt.show()\n"
   ]
  },
  {
   "cell_type": "markdown",
   "metadata": {
    "id": "t8ItwXquZn59"
   },
   "source": [
    "## Rubik's Cube\n",
    "Rubik's Cube is operated based on the locations and colors of 6$\\times$9 stickers.\n",
    "\n",
    "We employ [Quarter-Turn Metric](https://www.speedsolving.com/wiki/index.php/Metric#QTM) (90° turns count as one move; 180°, two) for both scrambling and solving the puzzle.\n"
   ]
  },
  {
   "cell_type": "code",
   "execution_count": 4,
   "metadata": {
    "id": "JlekyJyMZn5-",
    "tags": []
   },
   "outputs": [],
   "source": [
    "import random\n",
    "import numpy as np\n",
    "\n",
    "\n",
    "class Cube(object):\n",
    "    \"\"\"\n",
    "    A class for 3x3x3 Rubik's Cube\n",
    "    \"\"\"\n",
    "    def __init__(self, metric=METRIC):\n",
    "        self.DTYPE = np.int64\n",
    "        self.metric = metric\n",
    "\n",
    "        # define state and goal\n",
    "        self.reset()  # state\n",
    "        self.goal = np.arange(0, 9 * 6, dtype=self.DTYPE) // 9\n",
    "\n",
    "        # define moves\n",
    "        ## faces and turns\n",
    "        faces = [\"U\", \"D\", \"L\", \"R\", \"B\", \"F\"]\n",
    "        ## [90 degrees clockwise, 90 degrees counter-clockwise]\n",
    "        degrees = [\"\", \"'\"]\n",
    "        degrees_inference = degrees[::-1]\n",
    "        if self.metric == \"HTM\":\n",
    "            # += [180 degrees]\n",
    "            degrees += [\"2\"]\n",
    "            degrees_inference += [\"2\"]\n",
    "        else:\n",
    "            assert self.metric == \"QTM\"\n",
    "        self.moves = [f\"{f}{n}\" for f in faces for n in degrees]\n",
    "        self.moves_inference = [f\"{f}{n}\" for f in faces for n in degrees_inference]\n",
    "\n",
    "        # opposite faces\n",
    "        self.pairing = {\n",
    "            \"R\": \"L\",\n",
    "            \"L\": \"R\",\n",
    "            \"F\": \"B\",\n",
    "            \"B\": \"F\",\n",
    "            \"U\": \"D\",\n",
    "            \"D\": \"U\",\n",
    "        }\n",
    "        # prohibit obviously reduntant moves. \n",
    "        if self.metric == \"HTM\":\n",
    "            # two subsequent moves on the same face (cancelling or redundant).\n",
    "            self.moves_available_after = {\n",
    "                m: [v for v in self.moves if v[0] != m[0]] for m in self.moves\n",
    "            }\n",
    "        elif self.metric == \"QTM\":\n",
    "            # self-cancelling moves on the same face\n",
    "            self.moves_available_after = {\n",
    "                m: [v for v in self.moves if v[0] != m[0]] + [m] for m in self.moves\n",
    "            }\n",
    "        else:\n",
    "            raise\n",
    "\n",
    "        # vectorize the sticker group replacement operations\n",
    "        self.__vectorize_moves()\n",
    "\n",
    "    def reset(self):\n",
    "        self.state = np.arange(0, 9 * 6, dtype=self.DTYPE) // 9\n",
    "\n",
    "    def is_solved(self):\n",
    "        return np.all(self.state == self.goal)\n",
    "\n",
    "    def state_to_batch(self):\n",
    "        return np.expand_dims(self.state, axis=0)\n",
    "\n",
    "    def finger(self, move):\n",
    "        self.state[self.sticker_target[move]] = self.state[self.sticker_source[move]]\n",
    "\n",
    "    def scrambler(self, scramble_length):\n",
    "        \"\"\"\n",
    "        A generator function yielding the state and scramble\n",
    "        \"\"\"\n",
    "        while True:\n",
    "            # reset the self.state, scramble, and retun self.state and scramble moves\n",
    "            self.reset()\n",
    "            scramble = []\n",
    "\n",
    "            for i in range(scramble_length):\n",
    "                if i:\n",
    "                    last_move = scramble[-1]\n",
    "                    if i > 1:  # N(>=3)th moves\n",
    "                        while True:\n",
    "                            move = random.choice(self.moves_available_after[last_move])\n",
    "                            if self.metric == \"QTM\":\n",
    "                                if scramble[-2] == last_move == move:\n",
    "                                    # Two mutually canceling moves in a row\n",
    "                                    continue\n",
    "                                elif (\n",
    "                                    scramble[-2][0] == move[0]\n",
    "                                    and len(scramble[-2] + move) == 3\n",
    "                                    and last_move[0] == self.pairing[move[0]]\n",
    "                                ):\n",
    "                                    # Two mutually canceling moves sandwiching an opposite face move\n",
    "                                    continue\n",
    "                                else:\n",
    "                                    break\n",
    "                            elif self.metric == \"HTM\":\n",
    "                                if scramble[-2][0] == move[0] and last_move[0] == self.pairing[move[0]]:\n",
    "                                    # Two mutually canceling moves sandwiching an opposite face move\n",
    "                                    continue\n",
    "                                else:\n",
    "                                    break\n",
    "                            else:\n",
    "                                raise\n",
    "                    else:  # 2nd move\n",
    "                        move = random.choice(self.moves_available_after[last_move])\n",
    "                else:  # 1st move\n",
    "                    move = random.choice(self.moves)\n",
    "\n",
    "                self.finger(move)\n",
    "                scramble.append(move)\n",
    "\n",
    "                yield self.state, move\n",
    "                \n",
    "    def sequence(self, move_list):\n",
    "        for move in move_list:\n",
    "            self.finger(move)\n",
    "\n",
    "    def __vectorize_moves(self):\n",
    "        \"\"\"\n",
    "        This method defines ```self.sticker_target``` and ```self.sticker_source``` to manage sticker colors (target is replaced by source).\n",
    "        They define indices of target and source stickers so that the moves can be vectorized.\n",
    "\n",
    "        colors:\n",
    "                0 0 0\n",
    "                0 0 0\n",
    "                0 0 0\n",
    "            2 2 2 5 5 5 3 3 3 4 4 4\n",
    "            2 2 2 5 5 5 3 3 3 4 4 4\n",
    "            2 2 2 5 5 5 3 3 3 4 4 4\n",
    "                1 1 1\n",
    "                1 1 1\n",
    "                1 1 1\n",
    "        order of stickers on each face:\n",
    "             2  5  8\n",
    "             1  4  7\n",
    "            [0] 3  6\n",
    "\n",
    "        indices of state (each starting with 9*(n-1)):\n",
    "                         2   5   8\n",
    "                         1   4   7\n",
    "                        [0]  3   6\n",
    "             20  23 26  47  50  53  29  32 35  38  41 44\n",
    "             19  22 25  46  49  52  28  31 34  37  40 43\n",
    "            [18] 21 24 [45] 48  51 [27] 30 33 [36] 39 42\n",
    "                        11   14 17\n",
    "                        10   13 16\n",
    "                        [9]  12 15\n",
    "        \"\"\"\n",
    "        self.sticker_target, self.sticker_source = dict(), dict()\n",
    "\n",
    "        self.sticker_replacement = {\n",
    "            # Sticker A is replaced by another sticker at index B -> A:B\n",
    "            \"U\": {\n",
    "                0: 6,\n",
    "                1: 3,\n",
    "                2: 0,\n",
    "                3: 7,\n",
    "                5: 1,\n",
    "                6: 8,\n",
    "                7: 5,\n",
    "                8: 2,\n",
    "                20: 47,\n",
    "                23: 50,\n",
    "                26: 53,\n",
    "                29: 38,\n",
    "                32: 41,\n",
    "                35: 44,\n",
    "                38: 20,\n",
    "                41: 23,\n",
    "                44: 26,\n",
    "                47: 29,\n",
    "                50: 32,\n",
    "                53: 35,\n",
    "            },\n",
    "            \"D\": {\n",
    "                9: 15,\n",
    "                10: 12,\n",
    "                11: 9,\n",
    "                12: 16,\n",
    "                14: 10,\n",
    "                15: 17,\n",
    "                16: 14,\n",
    "                17: 11,\n",
    "                18: 36,\n",
    "                21: 39,\n",
    "                24: 42,\n",
    "                27: 45,\n",
    "                30: 48,\n",
    "                33: 51,\n",
    "                36: 27,\n",
    "                39: 30,\n",
    "                42: 33,\n",
    "                45: 18,\n",
    "                48: 21,\n",
    "                51: 24,\n",
    "            },\n",
    "            \"L\": {\n",
    "                0: 44,\n",
    "                1: 43,\n",
    "                2: 42,\n",
    "                9: 45,\n",
    "                10: 46,\n",
    "                11: 47,\n",
    "                18: 24,\n",
    "                19: 21,\n",
    "                20: 18,\n",
    "                21: 25,\n",
    "                23: 19,\n",
    "                24: 26,\n",
    "                25: 23,\n",
    "                26: 20,\n",
    "                42: 11,\n",
    "                43: 10,\n",
    "                44: 9,\n",
    "                45: 0,\n",
    "                46: 1,\n",
    "                47: 2,\n",
    "            },\n",
    "            \"R\": {\n",
    "                6: 51,\n",
    "                7: 52,\n",
    "                8: 53,\n",
    "                15: 38,\n",
    "                16: 37,\n",
    "                17: 36,\n",
    "                27: 33,\n",
    "                28: 30,\n",
    "                29: 27,\n",
    "                30: 34,\n",
    "                32: 28,\n",
    "                33: 35,\n",
    "                34: 32,\n",
    "                35: 29,\n",
    "                36: 8,\n",
    "                37: 7,\n",
    "                38: 6,\n",
    "                51: 15,\n",
    "                52: 16,\n",
    "                53: 17,\n",
    "            },\n",
    "            \"B\": {\n",
    "                2: 35,\n",
    "                5: 34,\n",
    "                8: 33,\n",
    "                9: 20,\n",
    "                12: 19,\n",
    "                15: 18,\n",
    "                18: 2,\n",
    "                19: 5,\n",
    "                20: 8,\n",
    "                33: 9,\n",
    "                34: 12,\n",
    "                35: 15,\n",
    "                36: 42,\n",
    "                37: 39,\n",
    "                38: 36,\n",
    "                39: 43,\n",
    "                41: 37,\n",
    "                42: 44,\n",
    "                43: 41,\n",
    "                44: 38,\n",
    "            },\n",
    "            \"F\": {\n",
    "                0: 24,\n",
    "                3: 25,\n",
    "                6: 26,\n",
    "                11: 27,\n",
    "                14: 28,\n",
    "                17: 29,\n",
    "                24: 17,\n",
    "                25: 14,\n",
    "                26: 11,\n",
    "                27: 6,\n",
    "                28: 3,\n",
    "                29: 0,\n",
    "                45: 51,\n",
    "                46: 48,\n",
    "                47: 45,\n",
    "                48: 52,\n",
    "                50: 46,\n",
    "                51: 53,\n",
    "                52: 50,\n",
    "                53: 47,\n",
    "            },\n",
    "        }\n",
    "        for m in self.moves:\n",
    "            if len(m) == 1:\n",
    "                assert m in self.sticker_replacement\n",
    "            else:\n",
    "                if \"'\" in m:\n",
    "                    self.sticker_replacement[m] = {\n",
    "                        v: k for k, v in self.sticker_replacement[m[0]].items()\n",
    "                    }\n",
    "                elif \"2\" in m:\n",
    "                    self.sticker_replacement[m] = {\n",
    "                        k: self.sticker_replacement[m[0]][v]\n",
    "                        for k, v in self.sticker_replacement[m[0]].items()\n",
    "                    }\n",
    "                else:\n",
    "                    raise\n",
    "\n",
    "            self.sticker_target[m] = list(self.sticker_replacement[m].keys())\n",
    "            self.sticker_source[m] = list(self.sticker_replacement[m].values())\n",
    "\n",
    "            for i, idx in enumerate(self.sticker_target[m]):\n",
    "                assert self.sticker_replacement[m][idx] == self.sticker_source[m][i]\n",
    "\n",
    "\n",
    "cube = Cube()"
   ]
  },
  {
   "cell_type": "markdown",
   "metadata": {
    "id": "RC07rUp8Zn6F"
   },
   "source": [
    "## Model"
   ]
  },
  {
   "cell_type": "code",
   "execution_count": 5,
   "metadata": {
    "id": "DxeH2XPVZn6G"
   },
   "outputs": [],
   "source": [
    "class LinearBlock(nn.Module):\n",
    "    \"\"\"\n",
    "    Linear layer with ReLU and BatchNorm\n",
    "    \"\"\"\n",
    "    def __init__(self, input_prev, embed_dim):\n",
    "        super(LinearBlock, self).__init__()\n",
    "        self.fc = nn.Linear(input_prev, embed_dim)\n",
    "        self.relu = nn.ReLU()\n",
    "        self.bn = nn.BatchNorm1d(embed_dim)\n",
    "\n",
    "    def forward(self, inputs):\n",
    "        x = inputs\n",
    "        x = self.fc(x)\n",
    "        x = self.relu(x)\n",
    "        x = self.bn(x)\n",
    "        return x\n",
    "\n",
    "\n",
    "class ResidualBlock(nn.Module):\n",
    "    \"\"\"\n",
    "    Residual block with two linear layers\n",
    "    \"\"\"\n",
    "    def __init__(self, embed_dim):\n",
    "        super(ResidualBlock, self).__init__()\n",
    "        self.linearblock_1 = LinearBlock(embed_dim, embed_dim)\n",
    "        self.linearblock_2 = LinearBlock(embed_dim, embed_dim)\n",
    "\n",
    "    def forward(self, inputs):\n",
    "        x = inputs\n",
    "        x = self.linearblock_1(x)\n",
    "        x = self.linearblock_2(x)\n",
    "        x += inputs # skip-connection\n",
    "        return x\n",
    "\n",
    "\n",
    "class Model(nn.Module):\n",
    "    def __init__(self):\n",
    "        super(Model, self).__init__()\n",
    "        self.one_hot = nn.functional.one_hot\n",
    "        self.Stack = nn.Sequential(\n",
    "            LinearBlock(324, 5000),\n",
    "            LinearBlock(5000, 1000),\n",
    "            ResidualBlock(1000),\n",
    "            ResidualBlock(1000),\n",
    "            ResidualBlock(1000),\n",
    "            ResidualBlock(1000),\n",
    "        )\n",
    "        self.Prediction = nn.Linear(1000, len(cube.moves))\n",
    "\n",
    "    def forward(self, inputs):\n",
    "        x = inputs\n",
    "        x = self.one_hot(x.to(torch.int64), num_classes=6).to(torch.float).reshape(-1, 324)\n",
    "        x = self.Stack(x)\n",
    "        logits = self.Prediction(x)\n",
    "        return logits\n",
    "\n",
    "\n",
    "model = Model().to(device)\n"
   ]
  },
  {
   "cell_type": "markdown",
   "metadata": {
    "id": "yl2aML3wZn6I"
   },
   "source": [
    "## Training"
   ]
  },
  {
   "cell_type": "code",
   "execution_count": 6,
   "metadata": {
    "id": "C3wUuY2NZn6J"
   },
   "outputs": [],
   "source": [
    "def batch_generator(\n",
    "        batch_size_per_depth,\n",
    "        scramble_length=SCRAMBLE_LENGTH,\n",
    "        n_jobs=multiprocessing.cpu_count(),\n",
    "    ):\n",
    "    # setup\n",
    "    __dtype = np.int64\n",
    "    batch_size = batch_size_per_depth * scramble_length\n",
    "    # multiprocessing\n",
    "    cubes = [Cube()] * n_jobs\n",
    "    generators = [c.scrambler(scramble_length=scramble_length) for c in cubes]\n",
    "\n",
    "    global get_minibatch\n",
    "\n",
    "    def get_minibatch(i):\n",
    "        states = np.zeros((scramble_length, 9 * 6), dtype=__dtype)\n",
    "        last_moves = np.zeros((scramble_length,), dtype=__dtype)\n",
    "        g_local = generators[i % n_jobs]\n",
    "        for j in range(scramble_length):\n",
    "            _, last_move = next(g_local)\n",
    "            states[j, :] = cubes[i % n_jobs].state  # _to_numpy()\n",
    "            last_moves[j] = cube.moves.index(last_move)\n",
    "\n",
    "        return states, last_moves\n",
    "\n",
    "    # create the Pool instance after ```defining cubes``` and ```get_minibatch```\n",
    "    p = multiprocessing.Pool(n_jobs)\n",
    "    for _ in iter(int, 1):\n",
    "        ret = p.map(get_minibatch, list(range(batch_size_per_depth)))\n",
    "        batch_x = np.concatenate([e[0] for e in ret])\n",
    "        batch_y = np.concatenate([e[1] for e in ret], axis=0)\n",
    "        yield (batch_x, batch_y)"
   ]
  },
  {
   "cell_type": "code",
   "execution_count": 7,
   "metadata": {},
   "outputs": [
    {
     "name": "stderr",
     "output_type": "stream",
     "text": [
      "C:\\Users\\andri\\AppData\\Local\\Temp\\ipykernel_8772\\2162656668.py:1: DeprecationWarning: \n",
      "Pyarrow will become a required dependency of pandas in the next major release of pandas (pandas 3.0),\n",
      "(to allow more performant data types, such as the Arrow string type, and better interoperability with other libraries)\n",
      "but was not found to be installed on your system.\n",
      "If this would cause problems for you,\n",
      "please provide us feedback at https://github.com/pandas-dev/pandas/issues/54466\n",
      "        \n",
      "  import pandas as pd\n"
     ]
    }
   ],
   "source": [
    "import pandas as pd\n",
    "import numpy as np"
   ]
  },
  {
   "cell_type": "code",
   "execution_count": 8,
   "metadata": {},
   "outputs": [],
   "source": [
    "pd.set_option('display.max_columns', 500)"
   ]
  },
  {
   "cell_type": "code",
   "execution_count": 9,
   "metadata": {},
   "outputs": [
    {
     "data": {
      "text/plain": [
       "<generator object batch_generator at 0x000001CB7B5EDFC0>"
      ]
     },
     "execution_count": 9,
     "metadata": {},
     "output_type": "execute_result"
    }
   ],
   "source": [
    "batch_generator(\n",
    "        batch_size_per_depth=TrainConfig.batch_size_per_depth,\n",
    "        scramble_length=TrainConfig.scramble_length,\n",
    "    )"
   ]
  },
  {
   "cell_type": "code",
   "execution_count": 10,
   "metadata": {},
   "outputs": [],
   "source": [
    "# input_ = next(batch_generator(\n",
    "#         batch_size_per_depth=TrainConfig.batch_size_per_depth,\n",
    "#         scramble_length=TrainConfig.scramble_length,\n",
    "#     ))"
   ]
  },
  {
   "cell_type": "code",
   "execution_count": 11,
   "metadata": {},
   "outputs": [
    {
     "data": {
      "text/plain": [
       "Model(\n",
       "  (Stack): Sequential(\n",
       "    (0): LinearBlock(\n",
       "      (fc): Linear(in_features=324, out_features=5000, bias=True)\n",
       "      (relu): ReLU()\n",
       "      (bn): BatchNorm1d(5000, eps=1e-05, momentum=0.1, affine=True, track_running_stats=True)\n",
       "    )\n",
       "    (1): LinearBlock(\n",
       "      (fc): Linear(in_features=5000, out_features=1000, bias=True)\n",
       "      (relu): ReLU()\n",
       "      (bn): BatchNorm1d(1000, eps=1e-05, momentum=0.1, affine=True, track_running_stats=True)\n",
       "    )\n",
       "    (2): ResidualBlock(\n",
       "      (linearblock_1): LinearBlock(\n",
       "        (fc): Linear(in_features=1000, out_features=1000, bias=True)\n",
       "        (relu): ReLU()\n",
       "        (bn): BatchNorm1d(1000, eps=1e-05, momentum=0.1, affine=True, track_running_stats=True)\n",
       "      )\n",
       "      (linearblock_2): LinearBlock(\n",
       "        (fc): Linear(in_features=1000, out_features=1000, bias=True)\n",
       "        (relu): ReLU()\n",
       "        (bn): BatchNorm1d(1000, eps=1e-05, momentum=0.1, affine=True, track_running_stats=True)\n",
       "      )\n",
       "    )\n",
       "    (3): ResidualBlock(\n",
       "      (linearblock_1): LinearBlock(\n",
       "        (fc): Linear(in_features=1000, out_features=1000, bias=True)\n",
       "        (relu): ReLU()\n",
       "        (bn): BatchNorm1d(1000, eps=1e-05, momentum=0.1, affine=True, track_running_stats=True)\n",
       "      )\n",
       "      (linearblock_2): LinearBlock(\n",
       "        (fc): Linear(in_features=1000, out_features=1000, bias=True)\n",
       "        (relu): ReLU()\n",
       "        (bn): BatchNorm1d(1000, eps=1e-05, momentum=0.1, affine=True, track_running_stats=True)\n",
       "      )\n",
       "    )\n",
       "    (4): ResidualBlock(\n",
       "      (linearblock_1): LinearBlock(\n",
       "        (fc): Linear(in_features=1000, out_features=1000, bias=True)\n",
       "        (relu): ReLU()\n",
       "        (bn): BatchNorm1d(1000, eps=1e-05, momentum=0.1, affine=True, track_running_stats=True)\n",
       "      )\n",
       "      (linearblock_2): LinearBlock(\n",
       "        (fc): Linear(in_features=1000, out_features=1000, bias=True)\n",
       "        (relu): ReLU()\n",
       "        (bn): BatchNorm1d(1000, eps=1e-05, momentum=0.1, affine=True, track_running_stats=True)\n",
       "      )\n",
       "    )\n",
       "    (5): ResidualBlock(\n",
       "      (linearblock_1): LinearBlock(\n",
       "        (fc): Linear(in_features=1000, out_features=1000, bias=True)\n",
       "        (relu): ReLU()\n",
       "        (bn): BatchNorm1d(1000, eps=1e-05, momentum=0.1, affine=True, track_running_stats=True)\n",
       "      )\n",
       "      (linearblock_2): LinearBlock(\n",
       "        (fc): Linear(in_features=1000, out_features=1000, bias=True)\n",
       "        (relu): ReLU()\n",
       "        (bn): BatchNorm1d(1000, eps=1e-05, momentum=0.1, affine=True, track_running_stats=True)\n",
       "      )\n",
       "    )\n",
       "  )\n",
       "  (Prediction): Linear(in_features=1000, out_features=12, bias=True)\n",
       ")"
      ]
     },
     "execution_count": 11,
     "metadata": {},
     "output_type": "execute_result"
    }
   ],
   "source": [
    "model.to('cpu')"
   ]
  },
  {
   "cell_type": "code",
   "execution_count": 12,
   "metadata": {},
   "outputs": [],
   "source": [
    "#torch.from_numpy(input_[0][0:5000]).size()"
   ]
  },
  {
   "cell_type": "code",
   "execution_count": 13,
   "metadata": {},
   "outputs": [],
   "source": [
    "#model(torch.from_numpy(input_[0][0:2]))"
   ]
  },
  {
   "cell_type": "code",
   "execution_count": 14,
   "metadata": {
    "id": "vzSzqL74Zn6L"
   },
   "outputs": [],
   "source": [
    "def train(config):\n",
    "    model.train()\n",
    "    loss_fn = nn.CrossEntropyLoss()\n",
    "    optimizer = torch.optim.Adam(model.parameters(), lr=config.learning_rate)\n",
    "\n",
    "    BATCH_SIZE = config.batch_size_per_depth * config.scramble_length\n",
    "    scramble_length = config.scramble_length\n",
    "    g = batch_generator(\n",
    "        batch_size_per_depth=config.batch_size_per_depth,\n",
    "        scramble_length=config.scramble_length,\n",
    "    )\n",
    "    h = []\n",
    "\n",
    "    for i in trange(1, config.num_train_steps + 1, smoothing=0):\n",
    "        # prep\n",
    "        batch_x, batch_y = next(g)\n",
    "        batch_x, batch_y = torch.from_numpy(batch_x).to(device), torch.from_numpy(\n",
    "            batch_y\n",
    "        ).to(device)\n",
    "\n",
    "        # update\n",
    "        pred_y = model(batch_x)\n",
    "        loss = loss_fn(pred_y, batch_y)\n",
    "        optimizer.zero_grad()\n",
    "        loss.backward()\n",
    "        optimizer.step()\n",
    "\n",
    "        h.append(loss.item())\n",
    "        if config.interval_steps_plot and i % config.interval_steps_plot == 0:\n",
    "            clear_output()\n",
    "            plt_history(h)\n",
    "        if config.interval_steps_save and i % config.interval_steps_save == 0:\n",
    "            torch.save(model.state_dict(), f\"{METRIC}-model_{i}steps.pth\")\n",
    "            print(\"Model saved.\")"
   ]
  },
  {
   "cell_type": "code",
   "execution_count": 15,
   "metadata": {
    "tags": []
   },
   "outputs": [],
   "source": [
    "cube.reset()"
   ]
  },
  {
   "cell_type": "code",
   "execution_count": 16,
   "metadata": {},
   "outputs": [
    {
     "data": {
      "text/plain": [
       "array([0, 0, 0, 0, 0, 0, 0, 0, 0, 1, 1, 1, 1, 1, 1, 1, 1, 1, 2, 2, 2, 2,\n",
       "       2, 2, 2, 2, 2, 3, 3, 3, 3, 3, 3, 3, 3, 3, 4, 4, 4, 4, 4, 4, 4, 4,\n",
       "       4, 5, 5, 5, 5, 5, 5, 5, 5, 5], dtype=int64)"
      ]
     },
     "execution_count": 16,
     "metadata": {},
     "output_type": "execute_result"
    }
   ],
   "source": [
    "cube.state"
   ]
  },
  {
   "cell_type": "code",
   "execution_count": 17,
   "metadata": {
    "colab": {
     "base_uri": "https://localhost:8080/",
     "height": 337
    },
    "id": "l3lCB5_lZn6N",
    "outputId": "d7787bc9-9711-4778-9db1-3972faad1aa4"
   },
   "outputs": [],
   "source": [
    "# train(TrainConfig)\n",
    "# print(f\"Trained on data equivalent to {TrainConfig.batch_size_per_depth * TrainConfig.num_train_steps} solves.\")\n"
   ]
  },
  {
   "cell_type": "code",
   "execution_count": 18,
   "metadata": {},
   "outputs": [
    {
     "data": {
      "text/plain": [
       "<All keys matched successfully>"
      ]
     },
     "execution_count": 18,
     "metadata": {},
     "output_type": "execute_result"
    }
   ],
   "source": [
    "model.load_state_dict(torch.load('QTM-model_1000000steps.pth', map_location=torch.device('cpu')))"
   ]
  },
  {
   "cell_type": "code",
   "execution_count": 19,
   "metadata": {},
   "outputs": [
    {
     "data": {
      "text/plain": [
       "Model(\n",
       "  (Stack): Sequential(\n",
       "    (0): LinearBlock(\n",
       "      (fc): Linear(in_features=324, out_features=5000, bias=True)\n",
       "      (relu): ReLU()\n",
       "      (bn): BatchNorm1d(5000, eps=1e-05, momentum=0.1, affine=True, track_running_stats=True)\n",
       "    )\n",
       "    (1): LinearBlock(\n",
       "      (fc): Linear(in_features=5000, out_features=1000, bias=True)\n",
       "      (relu): ReLU()\n",
       "      (bn): BatchNorm1d(1000, eps=1e-05, momentum=0.1, affine=True, track_running_stats=True)\n",
       "    )\n",
       "    (2): ResidualBlock(\n",
       "      (linearblock_1): LinearBlock(\n",
       "        (fc): Linear(in_features=1000, out_features=1000, bias=True)\n",
       "        (relu): ReLU()\n",
       "        (bn): BatchNorm1d(1000, eps=1e-05, momentum=0.1, affine=True, track_running_stats=True)\n",
       "      )\n",
       "      (linearblock_2): LinearBlock(\n",
       "        (fc): Linear(in_features=1000, out_features=1000, bias=True)\n",
       "        (relu): ReLU()\n",
       "        (bn): BatchNorm1d(1000, eps=1e-05, momentum=0.1, affine=True, track_running_stats=True)\n",
       "      )\n",
       "    )\n",
       "    (3): ResidualBlock(\n",
       "      (linearblock_1): LinearBlock(\n",
       "        (fc): Linear(in_features=1000, out_features=1000, bias=True)\n",
       "        (relu): ReLU()\n",
       "        (bn): BatchNorm1d(1000, eps=1e-05, momentum=0.1, affine=True, track_running_stats=True)\n",
       "      )\n",
       "      (linearblock_2): LinearBlock(\n",
       "        (fc): Linear(in_features=1000, out_features=1000, bias=True)\n",
       "        (relu): ReLU()\n",
       "        (bn): BatchNorm1d(1000, eps=1e-05, momentum=0.1, affine=True, track_running_stats=True)\n",
       "      )\n",
       "    )\n",
       "    (4): ResidualBlock(\n",
       "      (linearblock_1): LinearBlock(\n",
       "        (fc): Linear(in_features=1000, out_features=1000, bias=True)\n",
       "        (relu): ReLU()\n",
       "        (bn): BatchNorm1d(1000, eps=1e-05, momentum=0.1, affine=True, track_running_stats=True)\n",
       "      )\n",
       "      (linearblock_2): LinearBlock(\n",
       "        (fc): Linear(in_features=1000, out_features=1000, bias=True)\n",
       "        (relu): ReLU()\n",
       "        (bn): BatchNorm1d(1000, eps=1e-05, momentum=0.1, affine=True, track_running_stats=True)\n",
       "      )\n",
       "    )\n",
       "    (5): ResidualBlock(\n",
       "      (linearblock_1): LinearBlock(\n",
       "        (fc): Linear(in_features=1000, out_features=1000, bias=True)\n",
       "        (relu): ReLU()\n",
       "        (bn): BatchNorm1d(1000, eps=1e-05, momentum=0.1, affine=True, track_running_stats=True)\n",
       "      )\n",
       "      (linearblock_2): LinearBlock(\n",
       "        (fc): Linear(in_features=1000, out_features=1000, bias=True)\n",
       "        (relu): ReLU()\n",
       "        (bn): BatchNorm1d(1000, eps=1e-05, momentum=0.1, affine=True, track_running_stats=True)\n",
       "      )\n",
       "    )\n",
       "  )\n",
       "  (Prediction): Linear(in_features=1000, out_features=12, bias=True)\n",
       ")"
      ]
     },
     "execution_count": 19,
     "metadata": {},
     "output_type": "execute_result"
    }
   ],
   "source": [
    "model.to(device)"
   ]
  },
  {
   "cell_type": "markdown",
   "metadata": {
    "id": "oijzxgzoZn6O"
   },
   "source": [
    "## Inference\n",
    "\n",
    "We test and compare on the DeepCubeA dataset"
   ]
  },
  {
   "cell_type": "code",
   "execution_count": 20,
   "metadata": {
    "id": "6JO-ECCqZn6P"
   },
   "outputs": [],
   "source": [
    "%%capture\n",
    "model.eval()"
   ]
  },
  {
   "cell_type": "markdown",
   "metadata": {
    "id": "F4pkjY3OZn6Q"
   },
   "source": [
    "### Dataset"
   ]
  },
  {
   "cell_type": "markdown",
   "metadata": {
    "id": "cocDX5olZn6R"
   },
   "source": [
    "Download dataset from GitHub"
   ]
  },
  {
   "cell_type": "code",
   "execution_count": 21,
   "metadata": {
    "colab": {
     "base_uri": "https://localhost:8080/"
    },
    "id": "TOyibmM9Zn6T",
    "outputId": "db6646b3-42cb-4cc2-efb7-dc78b581fcb7"
   },
   "outputs": [],
   "source": [
    "# %cd /content/\n",
    "# !git clone -q https://github.com/forestagostinelli/DeepCubeA\n",
    "# %cd /content/DeepCubeA/\n",
    "# import \n",
    "\n",
    "\n",
    "# print('### Optimal Solver ###')\n",
    "# filename = 'data/cube3/test/data_0.pkl'\n",
    "# with open(filename, 'rb') as f:\n",
    "#     if 'states' in filename:\n",
    "#         data_Optimal = pickle.load(f, encoding='iso-8859-1')\n",
    "#     else:\n",
    "#         data_Optimal = pickle.load(f)\n",
    "\n",
    "# print(data_Optimal.keys())\n",
    "# solutions_Optimal, times_Optimal, num_nodes_Optimal = [\n",
    "#     data_Optimal[e] for e in ['solutions', 'times', 'num_nodes_generated']]\n",
    "# len_Optimal = [len(s) for s in solutions_Optimal]\n",
    "# len_Optimal_count = {i: len_Optimal.count(\n",
    "#     i) for i in range(min(len_Optimal), max(len_Optimal))}\n",
    "\n",
    "# print('No. of cases:', len(len_Optimal))\n",
    "\n",
    "# print('\\n### Optimal Solver ###')\n",
    "\n",
    "# filename = 'results/cube3/results.pkl'\n",
    "# with open(filename, 'rb') as f:\n",
    "#     if 'states' in filename:\n",
    "#         data_DeepCubeA = pickle.load(f, encoding='iso-8859-1')\n",
    "#     else:\n",
    "#         data_DeepCubeA = pickle.load(f)\n",
    "\n",
    "# print(data_DeepCubeA.keys())\n",
    "# solutions_DeepCubeA, times_DeepCubeA, num_nodes_DeepCubeA = [\n",
    "#     data_DeepCubeA[e] for e in ['solutions', 'times', 'num_nodes_generated']]\n",
    "# len_DeepCubeA = [len(s) for s in solutions_DeepCubeA]\n",
    "# len_DeepCubeA_count = {i: len_DeepCubeA.count(\n",
    "#     i) for i in range(min(len_DeepCubeA), max(len_DeepCubeA))}\n",
    "\n",
    "# print('No. of cases:', len(solutions_DeepCubeA))\n",
    "\n",
    "# %cd /content/\n"
   ]
  },
  {
   "cell_type": "markdown",
   "metadata": {
    "id": "x05udFo4Zn6V"
   },
   "source": [
    "Convert optimal solutions to test scrambles"
   ]
  },
  {
   "cell_type": "code",
   "execution_count": 22,
   "metadata": {
    "colab": {
     "base_uri": "https://localhost:8080/"
    },
    "id": "lVv4g6VrZn6W",
    "outputId": "04e006d1-1f4f-4705-bed8-46e07dcd180f"
   },
   "outputs": [],
   "source": [
    "# # scrambles are the inverse of the optimal solutions\n",
    "# def solution2scramble(solution):\n",
    "#     return [m[0] if m[1] == -1 else m[0] + \"'\" for m in solution[::-1]]\n",
    "\n",
    "# test_scrambles = [solution2scramble(s) for s in solutions_Optimal]\n",
    "\n",
    "# print(f\"\"\"Example: {solutions_Optimal[0]} -> {test_scrambles[0]}\"\"\")\n"
   ]
  },
  {
   "cell_type": "markdown",
   "metadata": {
    "id": "bk6u5qNuZn6X"
   },
   "source": [
    "### Beam Search"
   ]
  },
  {
   "cell_type": "code",
   "execution_count": 23,
   "metadata": {
    "id": "EXC3x41qZn6Y"
   },
   "outputs": [],
   "source": [
    "def beam_search(\n",
    "        cube,\n",
    "        top_k,\n",
    "        max_depth,\n",
    "        skip_redundant_moves=True,\n",
    "    ):\n",
    "    \"\"\"\n",
    "    Beam search algorithm.\n",
    "    Input:\n",
    "        cube: A scrambled Rubik's Cube\n",
    "        top_k: Number of top solutions to return per depth.\n",
    "        max_depth: Maximum depth of the search tree.\n",
    "        skip_redundant_moves: If True, skip redundant moves.\n",
    "    Output: \n",
    "        (move_hist, num_nodes, time_taken): ('first solution found', 'the number of nodes expanded', 'the amount of time')\n",
    "    \"\"\"\n",
    "    with torch.no_grad():\n",
    "        # metrics\n",
    "        num_nodes = 0\n",
    "        time_0 = time.time()\n",
    "        # manage candidates by their states and path (list of moves} as ordered lists\n",
    "        candidate_states, candidate_paths = [cube.state], [[]]\n",
    "\n",
    "        # loop until you find a solution OR you reach the maxium depth.\n",
    "        for depth in range(max_depth):\n",
    "            # create a batch of states to to predict for the depth\n",
    "            if depth==0: # the very initial state:\n",
    "                batch_x = cube.state_to_batch()\n",
    "            else: \n",
    "                batch_x = np.zeros((len(candidate_paths), 54), dtype=np.int64)\n",
    "                for i, move_hist in enumerate(candidate_paths):\n",
    "                    # apply the next predicted move\n",
    "                    cube.state = candidate_states[i]\n",
    "                    cube.finger(move_hist[-1])\n",
    "                    num_nodes += 1\n",
    "                    if cube.is_solved():\n",
    "                        time_taken = time.time() - time_0\n",
    "                        return move_hist, num_nodes, time_taken\n",
    "                    # else make prediction, adding it to batch_x\n",
    "                    batch_x[i, :] = deepcopy(cube.state)\n",
    "\n",
    "            # make predictions with the trained DNN\n",
    "            batch_x = torch.from_numpy(batch_x).to(device)\n",
    "            batch_p = model(batch_x).to(\"cpu\").detach().numpy()\n",
    "\n",
    "            # loop over candidate_paths\n",
    "            potential_candidates = []  # storage for the depth-level candidates storing (path, value, index).\n",
    "            for i, move_hist in enumerate(candidate_paths):\n",
    "                prediction_candicate = batch_p[i, :] # output logits for the given state\n",
    "                for ix in range(len(cube.moves)): # iterate over all possible moves.\n",
    "                    p = prediction_candicate[ix] # predicted value to expand the path with the given move.\n",
    "                    m = cube.moves_inference[ix]\n",
    "                    if move_hist:\n",
    "                        if skip_redundant_moves:\n",
    "                            # remove obviously redundant moves.\n",
    "                            if METRIC == \"QTM\":\n",
    "                                if m not in cube.moves_available_after[move_hist[-1]]:\n",
    "                                    # Two mutually canceling moves\n",
    "                                    continue\n",
    "                                elif len(move_hist) == 1:\n",
    "                                    potential_candidates.append((move_hist+[m], p, i))\n",
    "                                else:  # len(move_hist)>1\n",
    "                                    if move_hist[-2] == move_hist[-1] == m:\n",
    "                                        # three subsequent same moves\n",
    "                                        continue\n",
    "                                    elif (\n",
    "                                        move_hist[-2][0] == m[0]\n",
    "                                        and len(move_hist[-2] + m) == 3\n",
    "                                        and move_hist[-1][0] == cube.pairing[m[0]]\n",
    "                                    ):\n",
    "                                        # Two mutually canceling moves sandwiching an opposite face move\n",
    "                                        continue\n",
    "                                    else:\n",
    "                                        potential_candidates.append((move_hist+[m], p, i))\n",
    "                            elif METRIC == \"HTM\":\n",
    "                                if m[0] == move_hist[-1][0]:\n",
    "                                    # Two mutually canceling moves\n",
    "                                    continue\n",
    "                                elif len(move_hist) == 1:\n",
    "                                    potential_candidates.append((move_hist+[m], p, i))\n",
    "                                else:  # len(move_hist)>1\n",
    "                                    if move_hist[-2][0] == m[0] and move_hist[-1][0] == cube.pairing[m[0]]:\n",
    "                                        # Two mutually canceling moves sandwiching an opposite face move\n",
    "                                        continue\n",
    "                                    else:\n",
    "                                        potential_candidates.append((move_hist+[m], p, i))\n",
    "                            else:\n",
    "                                raise\n",
    "                        else: # the 2nd move\n",
    "                            potential_candidates.append((move_hist+[m], p, i))\n",
    "                    else:\n",
    "                        # the 1st move\n",
    "                        potential_candidates.append(([m], p, i))\n",
    "\n",
    "            # sort potential paths by expected values\n",
    "            potential_candidates = sorted(potential_candidates, key=lambda item: -item[1])\n",
    "            # if the number of candidates exceed that of beam width 'top_k'\n",
    "            if top_k < len(potential_candidates):\n",
    "                potential_candidates = potential_candidates[:top_k]\n",
    "\n",
    "            # renew the candidates\n",
    "            candidate_paths = [e[0] for e in potential_candidates]\n",
    "            candidate_states = [deepcopy(candidate_states[e[2]]) for e in potential_candidates]\n",
    "\n",
    "        # if you reaches the maximum depth, the last expanded nodes are tested.\n",
    "        for i, move_hist in enumerate(candidate_paths):\n",
    "            # apply the next predicted move & check if solved.\n",
    "            cube.state = candidate_states[i]\n",
    "            cube.finger(move_hist[-1])\n",
    "            num_nodes += 1\n",
    "            if cube.is_solved():\n",
    "                time_taken = time.time() - time_0\n",
    "                return move_hist, num_nodes, time_taken\n",
    "\n",
    "        # if you DO NOT find any solution with the given configuration, return None's\n",
    "        print(\"Solution not found.\")\n",
    "        return None, None, None"
   ]
  },
  {
   "cell_type": "code",
   "execution_count": 30,
   "metadata": {},
   "outputs": [
    {
     "data": {
      "text/plain": [
       "(None,\n",
       " array([0, 0, 0, 0, 0, 0, 0, 0, 0, 1, 1, 1, 1, 1, 1, 1, 1, 1, 2, 2, 2, 2,\n",
       "        2, 2, 2, 2, 2, 3, 3, 3, 3, 3, 3, 3, 3, 3, 4, 4, 4, 4, 4, 4, 4, 4,\n",
       "        4, 5, 5, 5, 5, 5, 5, 5, 5, 5], dtype=int64))"
      ]
     },
     "execution_count": 30,
     "metadata": {},
     "output_type": "execute_result"
    }
   ],
   "source": [
    "cube.reset(), cube.state"
   ]
  },
  {
   "cell_type": "code",
   "execution_count": 34,
   "metadata": {
    "tags": []
   },
   "outputs": [
    {
     "data": {
      "text/plain": [
       "(None,\n",
       " array([3, 0, 0, 2, 0, 4, 4, 2, 1, 1, 3, 2, 1, 1, 1, 1, 1, 0, 2, 0, 2, 5,\n",
       "        2, 5, 5, 1, 0, 2, 0, 3, 4, 3, 5, 3, 3, 3, 4, 4, 5, 2, 4, 2, 4, 4,\n",
       "        4, 1, 3, 5, 5, 5, 0, 5, 3, 0]))"
      ]
     },
     "execution_count": 34,
     "metadata": {},
     "output_type": "execute_result"
    }
   ],
   "source": [
    "cube.sequence([\"U'\",\"L'\", 'D',\"U'\",\"L'\", 'D',\"U'\",\"L'\", 'D', 'F']), cube.state"
   ]
  },
  {
   "cell_type": "code",
   "execution_count": 24,
   "metadata": {},
   "outputs": [],
   "source": [
    "cube.reset()"
   ]
  },
  {
   "cell_type": "code",
   "execution_count": 29,
   "metadata": {},
   "outputs": [],
   "source": [
    "cube.state = np.array([2,5,0,0,0,3,3,4,1,\n",
    "        0,3,0,0,1,5,2,2,1,\n",
    "        3,2,5,1,2,0,3,3,1,\n",
    "        2,4,4,1,3,1,4,4,3,\n",
    "        0,2,5,2,4,0,4,5,2,\n",
    "        5,5,5,1,5,4,4,3,1])"
   ]
  },
  {
   "cell_type": "code",
   "execution_count": null,
   "metadata": {},
   "outputs": [],
   "source": []
  },
  {
   "cell_type": "code",
   "execution_count": 30,
   "metadata": {},
   "outputs": [
    {
     "name": "stdout",
     "output_type": "stream",
     "text": [
      "[\"R'\", 'B', \"F'\", \"R'\", 'D', \"R'\", \"B'\", 'U', 'D', 'L', \"F'\", 'L', 'B', \"L'\", \"D'\", 'B', 'R', 'D', 'R', 'U', 'R', 'U', \"R'\"]\n"
     ]
    }
   ],
   "source": [
    "result = beam_search(cube, top_k, max_depth)\n",
    "print(result[0])"
   ]
  },
  {
   "cell_type": "code",
   "execution_count": 37,
   "metadata": {},
   "outputs": [
    {
     "name": "stdout",
     "output_type": "stream",
     "text": [
      "rBfrDrbUDLfLBldBRDRURUr\n"
     ]
    }
   ],
   "source": [
    "def transformar_letras(cadena):\n",
    "    # Crear una lista para almacenar los resultados transformados\n",
    "    nueva_lista = []\n",
    "    \n",
    "    # Iterar sobre cada elemento de la lista\n",
    "    for elemento in cadena:\n",
    "        # Si el elemento contiene \"'\", se elimina y se convierte a minúsculas\n",
    "        if \"'\" in elemento:\n",
    "            nuevo_elemento = elemento.replace(\"'\", \"\").lower()\n",
    "        else:\n",
    "            nuevo_elemento = elemento\n",
    "        # Agregar el elemento transformado a la nueva lista\n",
    "        nueva_lista.append(nuevo_elemento)\n",
    "    \n",
    "    # Concatenar todas las letras en una sola línea\n",
    "    nueva_cadena = ''.join(nueva_lista)\n",
    "    \n",
    "    return nueva_cadena\n",
    "\n",
    "resultado = transformar_letras(result[0])\n",
    "print(resultado)\n",
    "\n"
   ]
  },
  {
   "cell_type": "markdown",
   "metadata": {
    "id": "rtAhlo21Zn6b",
    "tags": []
   },
   "source": [
    "### Solve"
   ]
  },
  {
   "cell_type": "code",
   "execution_count": 36,
   "metadata": {},
   "outputs": [
    {
     "data": {
      "text/plain": [
       "array([0, 0, 0, 0, 0, 0, 0, 0, 0, 1, 1, 1, 1, 1, 1, 1, 1, 1, 2, 2, 2, 2,\n",
       "       2, 2, 2, 2, 2, 3, 3, 3, 3, 3, 3, 3, 3, 3, 4, 4, 4, 4, 4, 4, 4, 4,\n",
       "       4, 5, 5, 5, 5, 5, 5, 5, 5, 5])"
      ]
     },
     "execution_count": 36,
     "metadata": {},
     "output_type": "execute_result"
    }
   ],
   "source": [
    "cube.state"
   ]
  },
  {
   "cell_type": "code",
   "execution_count": null,
   "metadata": {},
   "outputs": [],
   "source": []
  },
  {
   "cell_type": "code",
   "execution_count": null,
   "metadata": {},
   "outputs": [],
   "source": []
  },
  {
   "cell_type": "code",
   "execution_count": null,
   "metadata": {},
   "outputs": [],
   "source": []
  },
  {
   "cell_type": "markdown",
   "metadata": {},
   "source": [
    "### Conclusion\n"
   ]
  },
  {
   "cell_type": "code",
   "execution_count": 23,
   "metadata": {
    "colab": {
     "base_uri": "https://localhost:8080/",
     "height": 568
    },
    "id": "8gCrRuCZZn6c",
    "outputId": "0ed62f18-19a9-48b2-a56a-d0d92e57730b"
   },
   "outputs": [
    {
     "name": "stderr",
     "output_type": "stream",
     "text": [
      "  0%|                                                  | 0/1000 [00:00<?, ?it/s]\n"
     ]
    },
    {
     "ename": "RuntimeError",
     "evalue": "Expected all tensors to be on the same device, but found at least two devices, cpu and cuda:0! (when checking argument for argument mat1 in method wrapper_addmm)",
     "output_type": "error",
     "traceback": [
      "\u001b[0;31m---------------------------------------------------------------------------\u001b[0m",
      "\u001b[0;31mRuntimeError\u001b[0m                              Traceback (most recent call last)",
      "Input \u001b[0;32mIn [23]\u001b[0m, in \u001b[0;36m<cell line: 3>\u001b[0;34m()\u001b[0m\n\u001b[1;32m      7\u001b[0m     cube\u001b[38;5;241m.\u001b[39mfinger(scramble_move)\n\u001b[1;32m      8\u001b[0m \u001b[38;5;66;03m# solve\u001b[39;00m\n\u001b[0;32m----> 9\u001b[0m solution, num_nodes, time_taken \u001b[38;5;241m=\u001b[39m \u001b[43mbeam_search\u001b[49m\u001b[43m(\u001b[49m\u001b[43mcube\u001b[49m\u001b[43m,\u001b[49m\u001b[43m \u001b[49m\u001b[43mtop_k\u001b[49m\u001b[43m,\u001b[49m\u001b[43m \u001b[49m\u001b[43mmax_depth\u001b[49m\u001b[43m)\u001b[49m\n\u001b[1;32m     10\u001b[0m \u001b[38;5;28;01mif\u001b[39;00m num_nodes:\n\u001b[1;32m     11\u001b[0m     solutions_all\u001b[38;5;241m.\u001b[39mappend(solution)\n",
      "Input \u001b[0;32mIn [22]\u001b[0m, in \u001b[0;36mbeam_search\u001b[0;34m(cube, top_k, max_depth, skip_redundant_moves)\u001b[0m\n\u001b[1;32m     42\u001b[0m \u001b[38;5;66;03m# make predictions with the trained DNN\u001b[39;00m\n\u001b[1;32m     43\u001b[0m batch_x \u001b[38;5;241m=\u001b[39m torch\u001b[38;5;241m.\u001b[39mfrom_numpy(batch_x)\u001b[38;5;241m.\u001b[39mto(device)\n\u001b[0;32m---> 44\u001b[0m batch_p \u001b[38;5;241m=\u001b[39m \u001b[43mmodel\u001b[49m\u001b[43m(\u001b[49m\u001b[43mbatch_x\u001b[49m\u001b[43m)\u001b[49m\u001b[38;5;241m.\u001b[39mto(\u001b[38;5;124m\"\u001b[39m\u001b[38;5;124mcpu\u001b[39m\u001b[38;5;124m\"\u001b[39m)\u001b[38;5;241m.\u001b[39mdetach()\u001b[38;5;241m.\u001b[39mnumpy()\n\u001b[1;32m     46\u001b[0m \u001b[38;5;66;03m# loop over candidate_paths\u001b[39;00m\n\u001b[1;32m     47\u001b[0m potential_candidates \u001b[38;5;241m=\u001b[39m []  \u001b[38;5;66;03m# storage for the depth-level candidates storing (path, value, index).\u001b[39;00m\n",
      "File \u001b[0;32m~/anaconda3/lib/python3.9/site-packages/torch/nn/modules/module.py:1130\u001b[0m, in \u001b[0;36mModule._call_impl\u001b[0;34m(self, *input, **kwargs)\u001b[0m\n\u001b[1;32m   1126\u001b[0m \u001b[38;5;66;03m# If we don't have any hooks, we want to skip the rest of the logic in\u001b[39;00m\n\u001b[1;32m   1127\u001b[0m \u001b[38;5;66;03m# this function, and just call forward.\u001b[39;00m\n\u001b[1;32m   1128\u001b[0m \u001b[38;5;28;01mif\u001b[39;00m \u001b[38;5;129;01mnot\u001b[39;00m (\u001b[38;5;28mself\u001b[39m\u001b[38;5;241m.\u001b[39m_backward_hooks \u001b[38;5;129;01mor\u001b[39;00m \u001b[38;5;28mself\u001b[39m\u001b[38;5;241m.\u001b[39m_forward_hooks \u001b[38;5;129;01mor\u001b[39;00m \u001b[38;5;28mself\u001b[39m\u001b[38;5;241m.\u001b[39m_forward_pre_hooks \u001b[38;5;129;01mor\u001b[39;00m _global_backward_hooks\n\u001b[1;32m   1129\u001b[0m         \u001b[38;5;129;01mor\u001b[39;00m _global_forward_hooks \u001b[38;5;129;01mor\u001b[39;00m _global_forward_pre_hooks):\n\u001b[0;32m-> 1130\u001b[0m     \u001b[38;5;28;01mreturn\u001b[39;00m \u001b[43mforward_call\u001b[49m\u001b[43m(\u001b[49m\u001b[38;5;241;43m*\u001b[39;49m\u001b[38;5;28;43minput\u001b[39;49m\u001b[43m,\u001b[49m\u001b[43m \u001b[49m\u001b[38;5;241;43m*\u001b[39;49m\u001b[38;5;241;43m*\u001b[39;49m\u001b[43mkwargs\u001b[49m\u001b[43m)\u001b[49m\n\u001b[1;32m   1131\u001b[0m \u001b[38;5;66;03m# Do not call functions when jit is used\u001b[39;00m\n\u001b[1;32m   1132\u001b[0m full_backward_hooks, non_full_backward_hooks \u001b[38;5;241m=\u001b[39m [], []\n",
      "Input \u001b[0;32mIn [5]\u001b[0m, in \u001b[0;36mModel.forward\u001b[0;34m(self, inputs)\u001b[0m\n\u001b[1;32m     51\u001b[0m x \u001b[38;5;241m=\u001b[39m inputs\n\u001b[1;32m     52\u001b[0m x \u001b[38;5;241m=\u001b[39m \u001b[38;5;28mself\u001b[39m\u001b[38;5;241m.\u001b[39mone_hot(x, num_classes\u001b[38;5;241m=\u001b[39m\u001b[38;5;241m6\u001b[39m)\u001b[38;5;241m.\u001b[39mto(torch\u001b[38;5;241m.\u001b[39mfloat)\u001b[38;5;241m.\u001b[39mreshape(\u001b[38;5;241m-\u001b[39m\u001b[38;5;241m1\u001b[39m, \u001b[38;5;241m324\u001b[39m)\n\u001b[0;32m---> 53\u001b[0m x \u001b[38;5;241m=\u001b[39m \u001b[38;5;28;43mself\u001b[39;49m\u001b[38;5;241;43m.\u001b[39;49m\u001b[43mStack\u001b[49m\u001b[43m(\u001b[49m\u001b[43mx\u001b[49m\u001b[43m)\u001b[49m\n\u001b[1;32m     54\u001b[0m logits \u001b[38;5;241m=\u001b[39m \u001b[38;5;28mself\u001b[39m\u001b[38;5;241m.\u001b[39mPrediction(x)\n\u001b[1;32m     55\u001b[0m \u001b[38;5;28;01mreturn\u001b[39;00m logits\n",
      "File \u001b[0;32m~/anaconda3/lib/python3.9/site-packages/torch/nn/modules/module.py:1130\u001b[0m, in \u001b[0;36mModule._call_impl\u001b[0;34m(self, *input, **kwargs)\u001b[0m\n\u001b[1;32m   1126\u001b[0m \u001b[38;5;66;03m# If we don't have any hooks, we want to skip the rest of the logic in\u001b[39;00m\n\u001b[1;32m   1127\u001b[0m \u001b[38;5;66;03m# this function, and just call forward.\u001b[39;00m\n\u001b[1;32m   1128\u001b[0m \u001b[38;5;28;01mif\u001b[39;00m \u001b[38;5;129;01mnot\u001b[39;00m (\u001b[38;5;28mself\u001b[39m\u001b[38;5;241m.\u001b[39m_backward_hooks \u001b[38;5;129;01mor\u001b[39;00m \u001b[38;5;28mself\u001b[39m\u001b[38;5;241m.\u001b[39m_forward_hooks \u001b[38;5;129;01mor\u001b[39;00m \u001b[38;5;28mself\u001b[39m\u001b[38;5;241m.\u001b[39m_forward_pre_hooks \u001b[38;5;129;01mor\u001b[39;00m _global_backward_hooks\n\u001b[1;32m   1129\u001b[0m         \u001b[38;5;129;01mor\u001b[39;00m _global_forward_hooks \u001b[38;5;129;01mor\u001b[39;00m _global_forward_pre_hooks):\n\u001b[0;32m-> 1130\u001b[0m     \u001b[38;5;28;01mreturn\u001b[39;00m \u001b[43mforward_call\u001b[49m\u001b[43m(\u001b[49m\u001b[38;5;241;43m*\u001b[39;49m\u001b[38;5;28;43minput\u001b[39;49m\u001b[43m,\u001b[49m\u001b[43m \u001b[49m\u001b[38;5;241;43m*\u001b[39;49m\u001b[38;5;241;43m*\u001b[39;49m\u001b[43mkwargs\u001b[49m\u001b[43m)\u001b[49m\n\u001b[1;32m   1131\u001b[0m \u001b[38;5;66;03m# Do not call functions when jit is used\u001b[39;00m\n\u001b[1;32m   1132\u001b[0m full_backward_hooks, non_full_backward_hooks \u001b[38;5;241m=\u001b[39m [], []\n",
      "File \u001b[0;32m~/anaconda3/lib/python3.9/site-packages/torch/nn/modules/container.py:139\u001b[0m, in \u001b[0;36mSequential.forward\u001b[0;34m(self, input)\u001b[0m\n\u001b[1;32m    137\u001b[0m \u001b[38;5;28;01mdef\u001b[39;00m \u001b[38;5;21mforward\u001b[39m(\u001b[38;5;28mself\u001b[39m, \u001b[38;5;28minput\u001b[39m):\n\u001b[1;32m    138\u001b[0m     \u001b[38;5;28;01mfor\u001b[39;00m module \u001b[38;5;129;01min\u001b[39;00m \u001b[38;5;28mself\u001b[39m:\n\u001b[0;32m--> 139\u001b[0m         \u001b[38;5;28minput\u001b[39m \u001b[38;5;241m=\u001b[39m \u001b[43mmodule\u001b[49m\u001b[43m(\u001b[49m\u001b[38;5;28;43minput\u001b[39;49m\u001b[43m)\u001b[49m\n\u001b[1;32m    140\u001b[0m     \u001b[38;5;28;01mreturn\u001b[39;00m \u001b[38;5;28minput\u001b[39m\n",
      "File \u001b[0;32m~/anaconda3/lib/python3.9/site-packages/torch/nn/modules/module.py:1130\u001b[0m, in \u001b[0;36mModule._call_impl\u001b[0;34m(self, *input, **kwargs)\u001b[0m\n\u001b[1;32m   1126\u001b[0m \u001b[38;5;66;03m# If we don't have any hooks, we want to skip the rest of the logic in\u001b[39;00m\n\u001b[1;32m   1127\u001b[0m \u001b[38;5;66;03m# this function, and just call forward.\u001b[39;00m\n\u001b[1;32m   1128\u001b[0m \u001b[38;5;28;01mif\u001b[39;00m \u001b[38;5;129;01mnot\u001b[39;00m (\u001b[38;5;28mself\u001b[39m\u001b[38;5;241m.\u001b[39m_backward_hooks \u001b[38;5;129;01mor\u001b[39;00m \u001b[38;5;28mself\u001b[39m\u001b[38;5;241m.\u001b[39m_forward_hooks \u001b[38;5;129;01mor\u001b[39;00m \u001b[38;5;28mself\u001b[39m\u001b[38;5;241m.\u001b[39m_forward_pre_hooks \u001b[38;5;129;01mor\u001b[39;00m _global_backward_hooks\n\u001b[1;32m   1129\u001b[0m         \u001b[38;5;129;01mor\u001b[39;00m _global_forward_hooks \u001b[38;5;129;01mor\u001b[39;00m _global_forward_pre_hooks):\n\u001b[0;32m-> 1130\u001b[0m     \u001b[38;5;28;01mreturn\u001b[39;00m \u001b[43mforward_call\u001b[49m\u001b[43m(\u001b[49m\u001b[38;5;241;43m*\u001b[39;49m\u001b[38;5;28;43minput\u001b[39;49m\u001b[43m,\u001b[49m\u001b[43m \u001b[49m\u001b[38;5;241;43m*\u001b[39;49m\u001b[38;5;241;43m*\u001b[39;49m\u001b[43mkwargs\u001b[49m\u001b[43m)\u001b[49m\n\u001b[1;32m   1131\u001b[0m \u001b[38;5;66;03m# Do not call functions when jit is used\u001b[39;00m\n\u001b[1;32m   1132\u001b[0m full_backward_hooks, non_full_backward_hooks \u001b[38;5;241m=\u001b[39m [], []\n",
      "Input \u001b[0;32mIn [5]\u001b[0m, in \u001b[0;36mLinearBlock.forward\u001b[0;34m(self, inputs)\u001b[0m\n\u001b[1;32m     11\u001b[0m \u001b[38;5;28;01mdef\u001b[39;00m \u001b[38;5;21mforward\u001b[39m(\u001b[38;5;28mself\u001b[39m, inputs):\n\u001b[1;32m     12\u001b[0m     x \u001b[38;5;241m=\u001b[39m inputs\n\u001b[0;32m---> 13\u001b[0m     x \u001b[38;5;241m=\u001b[39m \u001b[38;5;28;43mself\u001b[39;49m\u001b[38;5;241;43m.\u001b[39;49m\u001b[43mfc\u001b[49m\u001b[43m(\u001b[49m\u001b[43mx\u001b[49m\u001b[43m)\u001b[49m\n\u001b[1;32m     14\u001b[0m     x \u001b[38;5;241m=\u001b[39m \u001b[38;5;28mself\u001b[39m\u001b[38;5;241m.\u001b[39mrelu(x)\n\u001b[1;32m     15\u001b[0m     x \u001b[38;5;241m=\u001b[39m \u001b[38;5;28mself\u001b[39m\u001b[38;5;241m.\u001b[39mbn(x)\n",
      "File \u001b[0;32m~/anaconda3/lib/python3.9/site-packages/torch/nn/modules/module.py:1130\u001b[0m, in \u001b[0;36mModule._call_impl\u001b[0;34m(self, *input, **kwargs)\u001b[0m\n\u001b[1;32m   1126\u001b[0m \u001b[38;5;66;03m# If we don't have any hooks, we want to skip the rest of the logic in\u001b[39;00m\n\u001b[1;32m   1127\u001b[0m \u001b[38;5;66;03m# this function, and just call forward.\u001b[39;00m\n\u001b[1;32m   1128\u001b[0m \u001b[38;5;28;01mif\u001b[39;00m \u001b[38;5;129;01mnot\u001b[39;00m (\u001b[38;5;28mself\u001b[39m\u001b[38;5;241m.\u001b[39m_backward_hooks \u001b[38;5;129;01mor\u001b[39;00m \u001b[38;5;28mself\u001b[39m\u001b[38;5;241m.\u001b[39m_forward_hooks \u001b[38;5;129;01mor\u001b[39;00m \u001b[38;5;28mself\u001b[39m\u001b[38;5;241m.\u001b[39m_forward_pre_hooks \u001b[38;5;129;01mor\u001b[39;00m _global_backward_hooks\n\u001b[1;32m   1129\u001b[0m         \u001b[38;5;129;01mor\u001b[39;00m _global_forward_hooks \u001b[38;5;129;01mor\u001b[39;00m _global_forward_pre_hooks):\n\u001b[0;32m-> 1130\u001b[0m     \u001b[38;5;28;01mreturn\u001b[39;00m \u001b[43mforward_call\u001b[49m\u001b[43m(\u001b[49m\u001b[38;5;241;43m*\u001b[39;49m\u001b[38;5;28;43minput\u001b[39;49m\u001b[43m,\u001b[49m\u001b[43m \u001b[49m\u001b[38;5;241;43m*\u001b[39;49m\u001b[38;5;241;43m*\u001b[39;49m\u001b[43mkwargs\u001b[49m\u001b[43m)\u001b[49m\n\u001b[1;32m   1131\u001b[0m \u001b[38;5;66;03m# Do not call functions when jit is used\u001b[39;00m\n\u001b[1;32m   1132\u001b[0m full_backward_hooks, non_full_backward_hooks \u001b[38;5;241m=\u001b[39m [], []\n",
      "File \u001b[0;32m~/anaconda3/lib/python3.9/site-packages/torch/nn/modules/linear.py:114\u001b[0m, in \u001b[0;36mLinear.forward\u001b[0;34m(self, input)\u001b[0m\n\u001b[1;32m    113\u001b[0m \u001b[38;5;28;01mdef\u001b[39;00m \u001b[38;5;21mforward\u001b[39m(\u001b[38;5;28mself\u001b[39m, \u001b[38;5;28minput\u001b[39m: Tensor) \u001b[38;5;241m-\u001b[39m\u001b[38;5;241m>\u001b[39m Tensor:\n\u001b[0;32m--> 114\u001b[0m     \u001b[38;5;28;01mreturn\u001b[39;00m \u001b[43mF\u001b[49m\u001b[38;5;241;43m.\u001b[39;49m\u001b[43mlinear\u001b[49m\u001b[43m(\u001b[49m\u001b[38;5;28;43minput\u001b[39;49m\u001b[43m,\u001b[49m\u001b[43m \u001b[49m\u001b[38;5;28;43mself\u001b[39;49m\u001b[38;5;241;43m.\u001b[39;49m\u001b[43mweight\u001b[49m\u001b[43m,\u001b[49m\u001b[43m \u001b[49m\u001b[38;5;28;43mself\u001b[39;49m\u001b[38;5;241;43m.\u001b[39;49m\u001b[43mbias\u001b[49m\u001b[43m)\u001b[49m\n",
      "\u001b[0;31mRuntimeError\u001b[0m: Expected all tensors to be on the same device, but found at least two devices, cpu and cuda:0! (when checking argument for argument mat1 in method wrapper_addmm)"
     ]
    }
   ],
   "source": [
    "# solutions_all, num_nodes_all, times_all = [], [], []\n",
    "\n",
    "# for scramble in tqdm(test_scrambles, position=0):\n",
    "#     # reset and scramble\n",
    "#     cube.reset()\n",
    "#     for scramble_move in scramble:\n",
    "#         cube.finger(scramble_move)\n",
    "#     # solve\n",
    "#     solution, num_nodes, time_taken = beam_search(cube, top_k, max_depth)\n",
    "#     if num_nodes:\n",
    "#         solutions_all.append(solution)\n",
    "#         num_nodes_all.append(num_nodes)\n",
    "#         times_all.append(time_taken)\n",
    "\n",
    "# plot_result(solutions_all, num_nodes_all, times_all)\n"
   ]
  },
  {
   "cell_type": "markdown",
   "metadata": {
    "id": "5TbIbL00Zn6l"
   },
   "source": [
    "## Comparison to DeepCubeA"
   ]
  },
  {
   "cell_type": "markdown",
   "metadata": {
    "id": "39qzxslFZn6m"
   },
   "source": [
    "### Solution length vs No. of nodes"
   ]
  },
  {
   "cell_type": "code",
   "execution_count": null,
   "metadata": {
    "id": "eQ6W6kL5Zn6n"
   },
   "outputs": [],
   "source": [
    "# num_nodes_ours = [e for e in num_nodes_all if e]\n",
    "# num_nodes_ours = [e for e in num_nodes_all if e]\n",
    "# times_ours = [e for e in times_all if e]\n",
    "# len_ours = [len(e) for e in solutions_all if e]\n",
    "# len_ours_count = {i: len_ours.count(i) for i in range(min(len_ours), max(len_ours))}\n"
   ]
  },
  {
   "cell_type": "code",
   "execution_count": 1,
   "metadata": {
    "colab": {
     "base_uri": "https://localhost:8080/",
     "height": 521
    },
    "id": "xGT_G03mZn6o",
    "outputId": "ca905882-4366-479c-862c-e2bb216c1809"
   },
   "outputs": [],
   "source": [
    "# left, width = 0.12, 0.75\n",
    "# bottom, height = 0.1, 0.75\n",
    "# spacing = 0.0\n",
    "\n",
    "# rect_scatter = [left, bottom, width, height]\n",
    "# rect_histx = [left, bottom + height, width, 0.1]\n",
    "# rect_histy = [left + width, bottom, 0.1, height]\n",
    "\n",
    "# fig = plt.figure(figsize=(7.5, 7.5))\n",
    "# ax = fig.add_axes(rect_scatter)\n",
    "# ax.set_xlabel(\"Solution length\")\n",
    "# ax.set_ylabel(\"No. of nodes\")\n",
    "# ax.set_yscale(\"log\")\n",
    "# ax_histx = fig.add_axes(rect_histx, sharex=ax)\n",
    "# ax_histy = fig.add_axes(rect_histy, sharey=ax)\n",
    "# ax_histx.set_ylabel(\"Frequency\")\n",
    "# ax_histy.set_xlabel(\"Frequency\")\n",
    "# ax_histx.tick_params(axis=\"x\", labelbottom=False)\n",
    "# ax_histy.tick_params(axis=\"y\", labelleft=False)\n",
    "\n",
    "# ax.set_xlim(15, max(len_ours))\n",
    "# ax_histx.set_xlim(15, max(len_ours))\n",
    "\n",
    "# ymax = 8.25\n",
    "# ax.set_ylim(10**2.5, 10**ymax)\n",
    "# ax_histy.set_ylim(10**2.5, 10**ymax)\n",
    "# bins_x = np.logspace(2.5, ymax, 100)\n",
    "\n",
    "# for k, (y, x) in {\n",
    "#         \"Optimal\": (num_nodes_Optimal, len_Optimal),\n",
    "#         \"DeepCubeA\": (num_nodes_DeepCubeA, len_DeepCubeA),\n",
    "#         \"Ours\": (num_nodes_ours, len_ours),\n",
    "#     }.items():\n",
    "#     ax.scatter(x, y, label=k, s=10)\n",
    "#     if k == \"Optimal\":\n",
    "#         ax_histy.hist(y, bins=bins_x, orientation=\"horizontal\")\n",
    "#     else:\n",
    "#         ax_histy.hist(y, bins=bins_x, orientation=\"horizontal\")\n",
    "\n",
    "# for i, d in enumerate([len_Optimal_count, len_DeepCubeA_count, len_ours_count]):\n",
    "#     if i:\n",
    "#         ax_histx.bar(list(d.keys()), list(d.values()), width=1)\n",
    "#     else:\n",
    "#         ax_histx.bar(list(d.keys()), list(d.values()), width=1.0)\n",
    "\n",
    "# ax_histx.axvline(np.mean(len_ours), color=\"#EB4275\")\n",
    "# ax.axvline(np.mean(len_ours), color=\"#EB4275\")\n",
    "\n",
    "# ax.plot(np.mean(len_Optimal), np.mean(num_nodes_Optimal), \"x\", markersize=10)\n",
    "# ax.plot(np.mean(len_DeepCubeA), np.mean(num_nodes_DeepCubeA), \"x\", markersize=10)\n",
    "# ax.plot(np.mean(len_ours), np.mean(num_nodes_ours), \"x\", label=\"Ours\", markersize=10)\n",
    "# ax.legend()\n",
    "\n",
    "# plt.show()\n"
   ]
  },
  {
   "cell_type": "markdown",
   "metadata": {
    "id": "tOJazVV9Zn6q"
   },
   "source": [
    "### Calculation time (s) vs. Solution length\n",
    "\n",
    "We compare time taken to solve test cases. \n",
    "\n",
    "In order to compare fairly our method to DeepCubeA, both of which are DNN-based, we obtain per-node time (s) and adjust ours to DeepCubeA."
   ]
  },
  {
   "cell_type": "code",
   "execution_count": null,
   "metadata": {
    "colab": {
     "base_uri": "https://localhost:8080/",
     "height": 390
    },
    "id": "02BUoAohZn6r",
    "outputId": "a11809a0-2554-4c2e-f6c9-14440525baf9"
   },
   "outputs": [
    {
     "name": "stdout",
     "output_type": "stream",
     "text": [
      "Optimal:\t1.4801182995895741e-06\n",
      "DeepCubeA:\t9.073204353441794e-06\n",
      "Ours:\t9.461254480153633e-05\n"
     ]
    },
    {
     "data": {
      "image/png": "[encoded data removed]",
      "text/plain": [
       "<Figure size 360x360 with 1 Axes>"
      ]
     },
     "metadata": {
      "needs_background": "light"
     },
     "output_type": "display_data"
    }
   ],
   "source": [
    "# fig, ax = plt.subplots(1, 1, figsize=(5, 5))\n",
    "# ax.set_xlabel(\"Calculation time per node (s)\")\n",
    "# ax.set_ylabel(\"Frequency\")\n",
    "# ax.set_xscale(\"log\")\n",
    "# ax.set_xlim(10**-6.5, 10**-3.75)\n",
    "# bins_x = np.logspace(-6.5, -3.75, 100)\n",
    "# for k, (n, t, s) in {\n",
    "#         \"Optimal\": (num_nodes_Optimal, times_Optimal, len_Optimal),\n",
    "#         \"DeepCubeA\": (num_nodes_DeepCubeA, times_DeepCubeA, len_DeepCubeA),\n",
    "#         \"Ours\": (num_nodes_ours, times_ours, len_ours),\n",
    "#     }.items():\n",
    "#     time_per_node = np.array(t) / np.array(n)\n",
    "#     ax.hist(time_per_node, bins=bins_x, label=k)\n",
    "#     print(f\"{k}:\\t{np.mean(time_per_node)}\")\n",
    "# ax.legend()\n",
    "# plt.show()\n"
   ]
  },
  {
   "cell_type": "code",
   "execution_count": null,
   "metadata": {
    "colab": {
     "base_uri": "https://localhost:8080/"
    },
    "id": "uaitQt9PZn6t",
    "outputId": "f5810628-0252-44c2-96af-095b60374989"
   },
   "outputs": [
    {
     "data": {
      "text/plain": [
       "10.42768807093454"
      ]
     },
     "execution_count": 40,
     "metadata": {},
     "output_type": "execute_result"
    }
   ],
   "source": [
    "# t_per_node_DeepCubeA = np.array(times_DeepCubeA) / np.array(num_nodes_DeepCubeA)\n",
    "# t_per_node_Ours = np.array(times_ours) / np.array(num_nodes_ours)\n",
    "# t_ratio = np.mean(t_per_node_Ours) / np.mean(t_per_node_DeepCubeA)\n",
    "# t_ratio\n"
   ]
  },
  {
   "cell_type": "code",
   "execution_count": null,
   "metadata": {
    "colab": {
     "base_uri": "https://localhost:8080/",
     "height": 362
    },
    "id": "IndXIKjxZn6u",
    "outputId": "0b03b5da-6def-49f8-e4c9-e80382eb99c5"
   },
   "outputs": [
    {
     "data": {
      "image/png": "[encoded data removed]",
      "text/plain": [
       "<Figure size 720x360 with 5 Axes>"
      ]
     },
     "metadata": {
      "needs_background": "light"
     },
     "output_type": "display_data"
    }
   ],
   "source": [
    "# left, width = 0.125, 0.35\n",
    "# bottom, height = 0.135, 0.70\n",
    "\n",
    "# rect_scatter = [left, bottom, width, height]\n",
    "# rect_scatter_j = [left + width, bottom, width, height]\n",
    "# rect_histx_0 = [left, bottom + height, width, 0.10]\n",
    "# rect_histx_1 = [left + width, bottom + height, width, 0.10]\n",
    "# rect_histy = [left + 2 * (width), bottom, 0.125, height]\n",
    "\n",
    "# fig = plt.figure(figsize=(10, 5))\n",
    "# ax = fig.add_axes(rect_scatter)\n",
    "# ax.set_xlabel(\"Actual time taken (s)\")\n",
    "# ax.set_ylabel(\"Solution lengths\")\n",
    "# ax.set_xscale(\"log\")\n",
    "# ax_j = fig.add_axes(rect_scatter_j)\n",
    "# ax_j.set_xlabel(\"Normalized time taken (s)\")\n",
    "# ax_j.set_xscale(\"log\")\n",
    "# ax_j.tick_params(axis=\"y\", labelleft=False)\n",
    "\n",
    "# ax_histx_0 = fig.add_axes(rect_histx_0, sharex=ax)\n",
    "# ax_histx_0.set_ylabel(\"Frequency\")\n",
    "# ax_histx_0.tick_params(axis=\"x\", labelbottom=False)\n",
    "# ax_histx_1 = fig.add_axes(rect_histx_1, sharex=ax)\n",
    "# ax_histx_1.tick_params(axis=\"x\", labelbottom=False)\n",
    "# ax_histx_1.tick_params(axis=\"y\", labelleft=False)\n",
    "# ax_histy = fig.add_axes(rect_histy, sharey=ax)\n",
    "# ax_histy.set_xlabel(\"Frequency\")\n",
    "# ax_histy.tick_params(axis=\"y\", labelleft=True)\n",
    "\n",
    "# bins_x = np.logspace(-3.5, 3.25, 100)\n",
    "# for k, (t, s) in {\n",
    "#         \"Optimal\": (times_Optimal, len_Optimal),\n",
    "#         \"DeepCubeA\": (times_DeepCubeA, len_DeepCubeA),\n",
    "#         \"Ours\": (times_ours, len_ours),\n",
    "#     }.items():\n",
    "#     ax.scatter(t, s, label=k, s=5)\n",
    "#     if k == \"Optimal\":\n",
    "#         ax_histx_0.hist(t, bins=bins_x)\n",
    "#     else:\n",
    "#         ax_histx_0.hist(t, bins=bins_x)\n",
    "#     if k == \"Ours\":\n",
    "#         t_just = np.array(t) / t_ratio\n",
    "#         ax_histx_1.hist(t_just, bins=bins_x)\n",
    "#         ax_j.scatter(t_just, s, label=k, s=5)\n",
    "#     else:\n",
    "#         if k == \"Optimal\":\n",
    "#             ax_histx_1.hist(np.array(t), bins=bins_x,)\n",
    "#         else:\n",
    "#             ax_histx_1.hist(np.array(t), bins=bins_x)\n",
    "#         ax_j.scatter(np.array(t), s, label=k, s=5)\n",
    "\n",
    "# for AX in [ax, ax_j]:\n",
    "#     AX.plot(np.mean(times_Optimal), np.mean(len_Optimal), \"x\", markersize=10)\n",
    "#     AX.plot(np.mean(times_DeepCubeA), np.mean(len_DeepCubeA), \"x\", markersize=10)\n",
    "#     AX.set_xlim(10**-3.5, 10**3.25)\n",
    "#     AX.set_ylim(15.5, max(len_ours) + 1)\n",
    "\n",
    "# for AX in [ax, ax_j, ax_histy]:\n",
    "#     AX.axhline(np.mean(len_ours), color=\"#EB4275\")\n",
    "\n",
    "# for i, d in enumerate([len_Optimal_count, len_DeepCubeA_count, len_ours_count]):\n",
    "#     if i:\n",
    "#         ax_histy.barh(list(d.keys()), list(d.values()), height=1)\n",
    "#     else:\n",
    "#         ax_histy.barh(list(d.keys()), list(d.values()), height=1)\n",
    "\n",
    "\n",
    "# ax.plot(np.mean(times_ours), np.mean(len_ours), \"x\", markersize=20)\n",
    "# ax_j.plot(np.mean(times_ours) / t_ratio, np.mean(len_ours), \"x\", markersize=20)\n",
    "\n",
    "# ax.legend()\n",
    "# plt.show()\n"
   ]
  }
 ],
 "metadata": {
  "accelerator": "GPU",
  "colab": {
   "collapsed_sections": [
    "t8ItwXquZn59"
   ],
   "machine_shape": "hm",
   "provenance": [],
   "toc_visible": true
  },
  "kernelspec": {
   "display_name": "Python 3 (ipykernel)",
   "language": "python",
   "name": "python3"
  },
  "language_info": {
   "codemirror_mode": {
    "name": "ipython",
    "version": 3
   },
   "file_extension": ".py",
   "mimetype": "text/x-python",
   "name": "python",
   "nbconvert_exporter": "python",
   "pygments_lexer": "ipython3",
   "version": "3.11.9"
  }
 },
 "nbformat": 4,
 "nbformat_minor": 4
}
