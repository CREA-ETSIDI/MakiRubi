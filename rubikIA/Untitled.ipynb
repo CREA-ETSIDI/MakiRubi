{
 "cells": [
  {
   "cell_type": "code",
   "execution_count": null,
   "id": "258fef0b-f28f-4c35-b505-7ac80d1b1700",
   "metadata": {},
   "outputs": [],
   "source": [
    "from vpython import *\n",
    "from IPython.display import clear_output\n",
    "import time\n",
    "scene = canvas()\n",
    "fps = 25\n",
    "faces= {1:(color.white),\n",
    "        2:(color.blue),\n",
    "        3:(color.yellow),\n",
    "        4:(color.green),\n",
    "        5:(color.red),\n",
    "        6:(color.orange),\n",
    "       }\n",
    "\n",
    "sphere(radius=0.2)\n",
    "# while True:\n",
    "for x in scene.objects:\n",
    "        x.visible = False\n",
    "stickers = []\n",
    "angulo = 0\n",
    "angulo2 = pi/2\n",
    "for face_color in faces.keys():\n",
    "    if angulo > -2 * pi:\n",
    "        for y in (1, 0, -1):\n",
    "            for x in (-1, 0, 1):\n",
    "                # if x==-1 and y==1:\n",
    "                #     sticker = box(color=color.orange, pos=vector(x, y, 1.5),\n",
    "                #               length=0.98, height=0.98, width=0.05)\n",
    "                # else:\n",
    "                %store\n",
    "                sticker = box(color=faces[cubo.tensor[face_color-1][-y+1][x+1].item()], pos=vector(x, y, 1.5),\n",
    "                              length=0.98, height=0.98, width=0.05)\n",
    "                sticker.rotate(angle=angulo, axis=vector(1,0,0), origin=vector(0, 0, 0))\n",
    "                stickers.append(sticker)\n",
    "        angulo = angulo - pi / 2\n",
    "    else:\n",
    "        for y in (1, 0, -1):\n",
    "            for x in (-1, 0, 1):\n",
    "                sticker = box(color=faces[cubo.tensor[face_color-1][-y+1][x+1].item()], pos=vector(x, y, 1.5),     \n",
    "                              length=0.98, height=0.98, width=0.05)\n",
    "                sticker.rotate(angle=angulo2, axis=vector(0,1,0), origin=vector(0, 0, 0))\n",
    "                stickers.append(sticker)\n",
    "        angulo2 = angulo2 + pi\n",
    "    # rate(1)"
   ]
  }
 ],
 "metadata": {
  "kernelspec": {
   "display_name": "tetris",
   "language": "python",
   "name": "tetris"
  },
  "language_info": {
   "codemirror_mode": {
    "name": "ipython",
    "version": 3
   },
   "file_extension": ".py",
   "mimetype": "text/x-python",
   "name": "python",
   "nbconvert_exporter": "python",
   "pygments_lexer": "ipython3",
   "version": "3.8.10"
  }
 },
 "nbformat": 4,
 "nbformat_minor": 5
}
