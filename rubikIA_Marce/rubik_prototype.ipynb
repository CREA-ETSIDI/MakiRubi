{
 "cells": [
  {
   "cell_type": "code",
   "execution_count": 2,
   "id": "6f508efe-afef-4f21-ad3d-7e1bdea023a4",
   "metadata": {},
   "outputs": [],
   "source": [
    "import numpy as np\n",
    "import random as rnd\n",
    "import torch\n",
    "import time\n",
    "import copy\n",
    "import os\n",
    "from torch.utils.tensorboard import SummaryWriter\n",
    "from collections import deque\n",
    "import shutil"
   ]
  },
  {
   "cell_type": "code",
   "execution_count": 3,
   "id": "e2babcd3-d0e3-497d-a926-1fc736263e56",
   "metadata": {},
   "outputs": [],
   "source": [
    "import argparse\n",
    "import os\n",
    "import shutil\n",
    "from random import random, randint, sample, seed\n",
    "\n",
    "import numpy as np\n",
    "import torch\n",
    "import torch.nn as nn\n",
    "from torch.utils.tensorboard import SummaryWriter\n",
    "\n",
    "import copy\n",
    "\n",
    "from collections import deque"
   ]
  },
  {
   "cell_type": "code",
   "execution_count": 4,
   "id": "0e34c688-f81c-483d-8afc-6fff6e5947c9",
   "metadata": {},
   "outputs": [],
   "source": [
    "class Cube():\n",
    "    \n",
    "    def __init__(self):\n",
    "        self.tensor = torch.tensor([torch.full([3,3],1).tolist(),\n",
    "                     torch.full([3,3],2).tolist(),\n",
    "                     torch.full([3,3],3).tolist(),\n",
    "                     torch.full([3,3],4).tolist(),\n",
    "                     torch.full([3,3],5).tolist(),\n",
    "                     torch.full([3,3],6).tolist()])\n",
    "        \n",
    "        \n",
    "    def R_(self):\n",
    "        aux = torch.clone(self.tensor[0][:,2])\n",
    "        self.tensor[0][:,2] = self.tensor[1][:,2]\n",
    "        self.tensor[1][:,2] = self.tensor[2][:,2]\n",
    "        self.tensor[2][:,2] = self.tensor[3][:,2]\n",
    "        self.tensor[3][:,2] = aux\n",
    "        \n",
    "    def R(self):\n",
    "        aux = torch.clone(self.tensor[0][:,2])\n",
    "        self.tensor[0][:,2] = self.tensor[3][:,2]\n",
    "        self.tensor[3][:,2] = self.tensor[2][:,2]\n",
    "        self.tensor[2][:,2] = self.tensor[1][:,2]\n",
    "        self.tensor[1][:,2] = aux\n",
    "        \n",
    "    def L(self):\n",
    "        aux = torch.clone(self.tensor[0][:,0])\n",
    "        self.tensor[0][:,0] = self.tensor[1][:,0]\n",
    "        self.tensor[1][:,0] = self.tensor[2][:,0]\n",
    "        self.tensor[2][:,0] = self.tensor[3][:,0]\n",
    "        self.tensor[3][:,0] = aux\n",
    "    \n",
    "    def L_(self):\n",
    "        aux = torch.clone(self.tensor[0][:,0])\n",
    "        self.tensor[0][:,0] = self.tensor[3][:,0]\n",
    "        self.tensor[3][:,0] = self.tensor[2][:,0]\n",
    "        self.tensor[2][:,0] = self.tensor[1][:,0]\n",
    "        self.tensor[1][:,0] = aux\n",
    "    \n",
    "    def U(self):\n",
    "        aux = torch.clone(self.tensor[0][0,:])\n",
    "        self.tensor[0][0,:] = self.tensor[4][0,:]\n",
    "        self.tensor[4][0,:] = self.tensor[2][0,:]\n",
    "        self.tensor[2][0,:] = self.tensor[5][0,:]\n",
    "        self.tensor[5][0,:] = aux\n",
    "        \n",
    "    def U_(self):\n",
    "        aux = torch.clone(self.tensor[0][0,:])\n",
    "        self.tensor[0][0,:] = self.tensor[5][0,:]\n",
    "        self.tensor[5][0,:] = self.tensor[2][0,:]\n",
    "        self.tensor[2][0,:] = self.tensor[4][0,:]\n",
    "        self.tensor[4][0,:] = aux\n",
    "    \n",
    "    def D(self):\n",
    "        aux = torch.clone(self.tensor[0][2,:])\n",
    "        self.tensor[0][2,:] = self.tensor[5][2,:]\n",
    "        self.tensor[5][2,:] = self.tensor[2][2,:]\n",
    "        self.tensor[2][2,:] = self.tensor[4][2,:]\n",
    "        self.tensor[4][2,:] = aux\n",
    "        \n",
    "    def D_(self):\n",
    "        aux = torch.clone(self.tensor[0][0,:])\n",
    "        self.tensor[0][0,:] = self.tensor[4][0,:]\n",
    "        self.tensor[4][0,:] = self.tensor[2][0,:]\n",
    "        self.tensor[2][0,:] = self.tensor[5][0,:]\n",
    "        self.tensor[5][0,:] = aux\n",
    "        \n",
    "    def B(self):\n",
    "        aux = torch.clone(self.tensor[4][:,2])\n",
    "        self.tensor[4][:,2] = self.tensor[3][:,2]\n",
    "        self.tensor[3][:,2] = self.tensor[5][:,2]\n",
    "        self.tensor[5][:,2] = self.tensor[1][:,2]\n",
    "        self.tensor[1][:,2] = aux\n",
    "        \n",
    "    def B_(self):\n",
    "        aux = torch.clone(self.tensor[4][:,2])\n",
    "        self.tensor[4][:,2] = self.tensor[1][:,2]\n",
    "        self.tensor[1][:,2] = self.tensor[5][:,2]\n",
    "        self.tensor[5][:,2] = self.tensor[3][:,2]\n",
    "        self.tensor[3][:,2] = aux\n",
    "    \n",
    "    def F_(self):\n",
    "        aux = torch.clone(self.tensor[4][:,0])\n",
    "        self.tensor[4][:,0] = self.tensor[3][:,0]\n",
    "        self.tensor[3][:,0] = self.tensor[5][:,0]\n",
    "        self.tensor[5][:,0] = self.tensor[1][:,0]\n",
    "        self.tensor[1][:,0] = aux\n",
    "        \n",
    "    def F(self):\n",
    "        aux = torch.clone(self.tensor[4][:,0])\n",
    "        self.tensor[4][:,0] = self.tensor[1][:,0]\n",
    "        self.tensor[1][:,0] = self.tensor[5][:,0]\n",
    "        self.tensor[5][:,0] = self.tensor[3][:,0]\n",
    "        self.tensor[3][:,0] = aux\n",
    "        \n",
    "    def Scramble(self, num=50, get_path=False):\n",
    "        path = []\n",
    "        for x in range(num):\n",
    "            move = rnd.choice((self.R, self.R_, self.L, self.L_, self.U, self.U_, self.B, self.B_, self.F, self.F_, self.D, self.D_))\n",
    "            path.append(move.__name__)\n",
    "            move()\n",
    "        if get_path:\n",
    "            return path\n",
    "        else:\n",
    "            return None\n",
    "    \n",
    "    def Restart(self):\n",
    "        self.tensor = torch.tensor([torch.full([3,3],1).tolist(),\n",
    "                     torch.full([3,3],2).tolist(),\n",
    "                     torch.full([3,3],3).tolist(),\n",
    "                     torch.full([3,3],4).tolist(),\n",
    "                     torch.full([3,3],5).tolist(),\n",
    "                     torch.full([3,3],6).tolist()])\n",
    "        return self.tensor.flatten()\n",
    "    \n",
    "    def Sequence(self, moves=None):\n",
    "        if moves == None:\n",
    "            print(\"Please insert a list of moves. Example: ['R','F_','B','U_']\")\n",
    "        else:\n",
    "            for x in moves:\n",
    "                exec(f\"self.{x}()\")\n",
    "                \n",
    "    def score(self):\n",
    "        score = 0\n",
    "        for x in self.tensor:\n",
    "            for ind1, y in enumerate(x):\n",
    "                for ind2, z in enumerate(y):\n",
    "                    if ind1 != 1 or ind2 != 1:\n",
    "                        if x[ind1][ind2] == x[1][1]:\n",
    "                            score+=1\n",
    "        return score\n",
    "    \n",
    "    def action(self):\n",
    "        pass\n",
    "    \n",
    "    def get_next_states(self):\n",
    "        actions = [self.R, self.R_, self.L, self.L_, self.U, self.U_, self.B, self.B_, self.F, self.F_, self.D, self.D_]\n",
    "        next_states = {}\n",
    "        for action in actions:\n",
    "            initial_state = copy.deepcopy(self.tensor)\n",
    "            action()\n",
    "            next_states[action]=self.tensor.flatten().float()\n",
    "            self.tensor = initial_state\n",
    "            \n",
    "        return next_states\n",
    "    \n",
    "    def step(self, step, max_steps):\n",
    "        complete = torch.tensor([torch.full([3,3],1).tolist(),\n",
    "                     torch.full([3,3],2).tolist(),\n",
    "                     torch.full([3,3],3).tolist(),\n",
    "                     torch.full([3,3],4).tolist(),\n",
    "                     torch.full([3,3],5).tolist(),\n",
    "                     torch.full([3,3],6).tolist()])\n",
    "        if step < max_steps or torch.all(torch.eq(self.tensor,complete)):\n",
    "            done = True\n",
    "        else:\n",
    "            done = False\n",
    "        return self.score(), done\n"
   ]
  },
  {
   "cell_type": "code",
   "execution_count": 5,
   "id": "71a6b382-e4b6-4a60-aa91-5dd8336fd0eb",
   "metadata": {},
   "outputs": [],
   "source": [
    "cubo = Cube()"
   ]
  },
  {
   "cell_type": "code",
   "execution_count": 6,
   "id": "3cc9a346-f3d1-49dc-91c0-421d358b63c5",
   "metadata": {},
   "outputs": [],
   "source": [
    "cubo.Sequence(['R','F_'])"
   ]
  },
  {
   "cell_type": "code",
   "execution_count": 7,
   "id": "6e6b781e-8b24-4da7-8cd2-536f01393083",
   "metadata": {},
   "outputs": [
    {
     "data": {
      "text/plain": [
       "tensor([[1, 1, 4],\n",
       "        [1, 1, 4],\n",
       "        [1, 1, 4]])"
      ]
     },
     "execution_count": 7,
     "metadata": {},
     "output_type": "execute_result"
    }
   ],
   "source": [
    "cubo.tensor[0]"
   ]
  },
  {
   "cell_type": "code",
   "execution_count": 8,
   "id": "a5672299-e0b7-41d3-a02d-a67f799f4393",
   "metadata": {},
   "outputs": [],
   "source": [
    "rnd.seed(3)"
   ]
  },
  {
   "cell_type": "code",
   "execution_count": 9,
   "id": "cdd6fd22-3131-4263-b52f-e806fa2fafb0",
   "metadata": {},
   "outputs": [
    {
     "data": {
      "text/plain": [
       "tensor([[5, 2, 1],\n",
       "        [5, 2, 1],\n",
       "        [5, 2, 1]])"
      ]
     },
     "execution_count": 9,
     "metadata": {},
     "output_type": "execute_result"
    }
   ],
   "source": [
    "cubo.tensor[1]"
   ]
  },
  {
   "cell_type": "code",
   "execution_count": 10,
   "id": "ce41fd17-0ba8-4e53-8786-57fb871032b6",
   "metadata": {},
   "outputs": [
    {
     "data": {
      "text/plain": [
       "tensor([[3, 3, 2],\n",
       "        [3, 3, 2],\n",
       "        [3, 3, 2]])"
      ]
     },
     "execution_count": 10,
     "metadata": {},
     "output_type": "execute_result"
    }
   ],
   "source": [
    "cubo.tensor[2]"
   ]
  },
  {
   "cell_type": "code",
   "execution_count": 11,
   "id": "9781e647-fcd2-497f-ad56-40cf770af0c9",
   "metadata": {},
   "outputs": [
    {
     "data": {
      "text/plain": [
       "tensor([[6, 4, 3],\n",
       "        [6, 4, 3],\n",
       "        [6, 4, 3]])"
      ]
     },
     "execution_count": 11,
     "metadata": {},
     "output_type": "execute_result"
    }
   ],
   "source": [
    "cubo.tensor[3]"
   ]
  },
  {
   "cell_type": "code",
   "execution_count": 12,
   "id": "3f522ee1-5f69-4181-8d31-d7757a720037",
   "metadata": {},
   "outputs": [
    {
     "data": {
      "text/plain": [
       "tensor([[4, 5, 5],\n",
       "        [4, 5, 5],\n",
       "        [4, 5, 5]])"
      ]
     },
     "execution_count": 12,
     "metadata": {},
     "output_type": "execute_result"
    }
   ],
   "source": [
    "cubo.tensor[4]"
   ]
  },
  {
   "cell_type": "code",
   "execution_count": 13,
   "id": "de524b13-ef74-4e96-ac19-b4baa68218bb",
   "metadata": {},
   "outputs": [
    {
     "data": {
      "text/plain": [
       "tensor([[2, 6, 6],\n",
       "        [2, 6, 6],\n",
       "        [2, 6, 6]])"
      ]
     },
     "execution_count": 13,
     "metadata": {},
     "output_type": "execute_result"
    }
   ],
   "source": [
    "cubo.tensor[5]"
   ]
  },
  {
   "cell_type": "code",
   "execution_count": 6,
   "id": "a9203e0e-e6cb-4df2-a995-8d105080302d",
   "metadata": {},
   "outputs": [],
   "source": [
    "cubo.Scramble()"
   ]
  },
  {
   "cell_type": "code",
   "execution_count": 7,
   "id": "e00d9d8f-e6a3-4c6d-8012-51806121e62c",
   "metadata": {
    "tags": []
   },
   "outputs": [
    {
     "data": {
      "text/plain": [
       "tensor([[1, 5, 6],\n",
       "        [4, 1, 2],\n",
       "        [6, 1, 5]])"
      ]
     },
     "execution_count": 7,
     "metadata": {},
     "output_type": "execute_result"
    }
   ],
   "source": [
    "cubo.tensor[0]"
   ]
  },
  {
   "cell_type": "code",
   "execution_count": 16,
   "id": "0d9c898c-7154-4e7b-94af-9fd894c71bbd",
   "metadata": {
    "tags": []
   },
   "outputs": [
    {
     "data": {
      "text/plain": [
       "tensor([1, 1, 1, 1, 1, 1, 1, 1, 1, 2, 2, 2, 2, 2, 2, 2, 2, 2, 3, 3, 3, 3, 3, 3,\n",
       "        3, 3, 3, 4, 4, 4, 4, 4, 4, 4, 4, 4, 5, 5, 5, 5, 5, 5, 5, 5, 5, 6, 6, 6,\n",
       "        6, 6, 6, 6, 6, 6])"
      ]
     },
     "execution_count": 16,
     "metadata": {},
     "output_type": "execute_result"
    }
   ],
   "source": [
    "cubo.Restart()"
   ]
  },
  {
   "cell_type": "code",
   "execution_count": 8,
   "id": "9a214be1-828b-454b-bb83-0c8e5ffff15b",
   "metadata": {
    "tags": []
   },
   "outputs": [],
   "source": [
    "a = cubo.get_next_states()"
   ]
  },
  {
   "cell_type": "code",
   "execution_count": 9,
   "id": "be87642d-8781-45ea-ab26-335773659bd5",
   "metadata": {
    "jupyter": {
     "outputs_hidden": true
    },
    "tags": []
   },
   "outputs": [
    {
     "data": {
      "text/plain": [
       "(16, True)"
      ]
     },
     "execution_count": 9,
     "metadata": {},
     "output_type": "execute_result"
    }
   ],
   "source": [
    "cubo.step(4,5)"
   ]
  },
  {
   "cell_type": "code",
   "execution_count": 10,
   "id": "1d3e148a-a5ab-4dba-92bf-da70dd4a0b42",
   "metadata": {},
   "outputs": [],
   "source": [
    "import torch.nn as nn\n",
    "\n",
    "class DeepQNetwork(nn.Module):\n",
    "    def __init__(self):\n",
    "        super(DeepQNetwork, self).__init__()\n",
    "\n",
    "        self.conv1 = nn.Sequential(nn.Linear(54, 256), nn.LeakyReLU(inplace=True))\n",
    "        self.conv2 = nn.Sequential(nn.Linear(256, 256), nn.LeakyReLU(inplace=True))\n",
    "        self.conv3 = nn.Sequential(nn.Linear(256, 256), nn.LeakyReLU(inplace=True))\n",
    "        self.conv4 = nn.Sequential(nn.Linear(256, 256), nn.LeakyReLU(inplace=True))\n",
    "        self.conv5 = nn.Sequential(nn.Linear(256, 256), nn.LeakyReLU(inplace=True))\n",
    "        self.conv6 = nn.Sequential(nn.Linear(256, 1))\n",
    "\n",
    "    def forward(self, x):\n",
    "        x = self.conv1(x)\n",
    "        x = self.conv2(x)\n",
    "        x = self.conv3(x)\n",
    "        x = self.conv4(x)\n",
    "        x = self.conv5(x)\n",
    "        x = self.conv6(x)\n",
    "\n",
    "        return x"
   ]
  },
  {
   "cell_type": "code",
   "execution_count": 11,
   "id": "609f0187-872b-4075-8981-81430e29947e",
   "metadata": {},
   "outputs": [],
   "source": [
    "env = Cube()"
   ]
  },
  {
   "cell_type": "code",
   "execution_count": 12,
   "id": "c24fbd56-d376-42be-862b-1b246da6c873",
   "metadata": {},
   "outputs": [],
   "source": [
    "class opt():\n",
    "    batch_size = 512\n",
    "    lr = 3e-4\n",
    "    gamma = 0.99\n",
    "    initial_epsilon=1\n",
    "    final_epsilon=0.005\n",
    "    num_decay_epochs=5000\n",
    "    num_epochs=40000\n",
    "    save_interval=500\n",
    "    replay_memory_size=3000000\n",
    "    target_step = 1\n",
    "    max_steps = 100\n",
    "    log_path=\"tensorboard/lr0.003\"\n",
    "    saved_path=\"trained_models\""
   ]
  },
  {
   "cell_type": "code",
   "execution_count": 13,
   "id": "44bd22df-27f5-452e-99f5-c1698ea27efb",
   "metadata": {},
   "outputs": [],
   "source": [
    "def train(opt):\n",
    "    rnd.seed(3)\n",
    "    if torch.cuda.is_available():\n",
    "        torch.cuda.manual_seed(123)\n",
    "        \n",
    "    else:\n",
    "        torch.manual_seed(123)\n",
    "    if os.path.isdir(opt.log_path):\n",
    "        shutil.rmtree(opt.log_path)\n",
    "        \n",
    "    os.makedirs(opt.log_path)\n",
    "    \n",
    "    writer = SummaryWriter(opt.log_path)\n",
    "    \n",
    "    model = DeepQNetwork()\n",
    "    target_model = copy.deepcopy(model)\n",
    "    \n",
    "    optimizer = torch.optim.Adam(model.parameters(), lr=opt.lr)\n",
    "    criterion = nn.MSELoss()\n",
    "    \n",
    "    env.Restart()\n",
    "    env.Scramble()\n",
    "    state = env.tensor.flatten().float()\n",
    "    if torch.cuda.is_available():\n",
    "        model.cuda()\n",
    "        target_model.cuda()\n",
    "        state = state.cuda()\n",
    "    replay_memory = deque(maxlen=opt.replay_memory_size)\n",
    "    \n",
    "    epoch = 0\n",
    "    for x in range(opt.num_epochs):\n",
    "        step = 0\n",
    "        while True:\n",
    "            next_steps = env.get_next_states()\n",
    "            epsilon = opt.final_epsilon + (max(opt.num_decay_epochs - epoch, 0) * (\n",
    "                    opt.initial_epsilon - opt.final_epsilon) / opt.num_decay_epochs)\n",
    "            u = random()\n",
    "            random_action = u <= epsilon\n",
    "            next_actions, next_states = zip(*next_steps.items())\n",
    "            next_states = torch.stack(next_states)\n",
    "            if torch.cuda.is_available():\n",
    "                next_states = next_states.cuda()\n",
    "            model.eval()\n",
    "            with torch.no_grad():\n",
    "                predictions = model(next_states)[:, 0]\n",
    "            if random_action:\n",
    "                index = randint(0, len(next_steps) - 1)\n",
    "            else:\n",
    "                index = torch.argmax(predictions).item()\n",
    "\n",
    "            next_state = next_states[index, :]\n",
    "            action = next_actions[index].__name__\n",
    "            \n",
    "            next_actions[index]()\n",
    "\n",
    "            reward, done = env.step(step, opt.max_steps)\n",
    "            step+=1\n",
    "\n",
    "            if torch.cuda.is_available():\n",
    "                next_state = next_state.cuda()\n",
    "            replay_memory.append([state, reward, next_state, done])\n",
    "            if done:\n",
    "                # final_score = env.score\n",
    "                # final_cleared_lines = env.lines\n",
    "                env.Restart()\n",
    "                env.Scramble()\n",
    "                state = env.tensor.flatten().float()\n",
    "                if torch.cuda.is_available():\n",
    "                    state = state.cuda()\n",
    "                break\n",
    "            else:\n",
    "                state = next_state\n",
    "                continue\n",
    "\n",
    "        if len(replay_memory) < opt.replay_memory_size / 3333:\n",
    "            continue\n",
    "        epoch += 1\n",
    "        if epoch > 2300:\n",
    "            opt.batch_size += 1\n",
    "            if epoch > 3500:\n",
    "                opt.batch_size += 2\n",
    "        batch = sample(replay_memory, min(len(replay_memory), opt.batch_size))\n",
    "        state_batch, reward_batch, next_state_batch, done_batch = zip(*batch)\n",
    "        state_batch = torch.stack(tuple(state for state in state_batch))\n",
    "        reward_batch = torch.from_numpy(np.array(reward_batch, dtype=np.float32)[:, None])\n",
    "        next_state_batch = torch.stack(tuple(state for state in next_state_batch))\n",
    "\n",
    "        if torch.cuda.is_available():\n",
    "            state_batch = state_batch.cuda()\n",
    "            reward_batch = reward_batch.cuda()\n",
    "            next_state_batch = next_state_batch.cuda()\n",
    "\n",
    "        q_values = model(state_batch)\n",
    "\n",
    "        with torch.no_grad():\n",
    "            next_prediction_batch = target_model(next_state_batch)\n",
    "        model.train()\n",
    "\n",
    "        y_batch = torch.cat(\n",
    "            tuple(reward if done else reward + opt.gamma * prediction for reward, done, prediction in\n",
    "                  zip(reward_batch, done_batch, next_prediction_batch)))[:, None]\n",
    "\n",
    "\n",
    "        optimizer.zero_grad()\n",
    "        loss = criterion(q_values, y_batch)\n",
    "\n",
    "        writer.add_scalar('Train/Loss', loss.item()\n",
    "                          # np.array(tbscores[-50:]).mean()\n",
    "                          , epoch - 1)\n",
    "\n",
    "        loss.backward()\n",
    "        optimizer.step()\n",
    "\n",
    "        final_score = reward\n",
    "\n",
    "        writer.add_scalar('Train/Score', final_score\n",
    "                          # np.array(tbscores[-50:]).mean()\n",
    "                          , epoch - 1)\n",
    "        # writer.add_scalar('Train/Cleared lines', final_cleared_lines\n",
    "        #                   # np.array(tbcleared_lines[-50:]).mean()\n",
    "        #                   , epoch - 1)\n",
    "\n",
    "        if epoch % opt.target_step == 0:\n",
    "            target_model.load_state_dict(model.state_dict())\n",
    "            # target_model = copy.deepcopy(model)\n",
    "            \n",
    "        print(\"Epoch: {}/{}, Action: {}, Score: {}\".format(\n",
    "            epoch,\n",
    "            opt.num_epochs,\n",
    "            action,\n",
    "            final_score))\n",
    "\n",
    "        # tbscores.append(final_score)\n",
    "        # tbcleared_lines.append(final_cleared_lines)\n",
    "\n",
    "\n",
    "\n",
    "        if epoch > 0 and epoch % opt.save_interval == 0:\n",
    "            torch.save(model, \"{}/rubik_{}\".format(opt.saved_path, epoch))\n",
    "\n",
    "        torch.save(model, \"{}/rubik\".format(opt.saved_path))\n"
   ]
  },
  {
   "cell_type": "code",
   "execution_count": null,
   "id": "e8a26ff8-a7ef-4f1a-8c57-2f45b8a47886",
   "metadata": {
    "jupyter": {
     "outputs_hidden": true
    },
    "tags": []
   },
   "outputs": [],
   "source": [
    "train(opt)"
   ]
  },
  {
   "cell_type": "code",
   "execution_count": null,
   "id": "a56a7b35-cddc-4a30-9797-f3d435adab24",
   "metadata": {
    "tags": []
   },
   "outputs": [],
   "source": [
    "from vpython import *\n",
    "import time\n",
    "fps = 25\n",
    "faces= {1:(color.white),\n",
    "        2:(color.blue),\n",
    "        3:(color.yellow),\n",
    "        4:(color.green),\n",
    "        5:(color.red),\n",
    "        6:(color.orange),\n",
    "       }\n",
    "stickers = []\n",
    "angulo = 0\n",
    "angulo2 = pi/2\n",
    "\n",
    "\n",
    "while True:\n",
    "    for face_color in faces.keys():\n",
    "        if angulo < 2 * pi:\n",
    "            for x in (-1, 0, 1):\n",
    "                for y in (-1, 0, 1):\n",
    "                    sticker = box(color=faces[cubo.tensor[face_color-1][x+1][y+1].item()], pos=vector(x, y, 1.5),\n",
    "                                  length=0.98, height=0.98, width=0.05)\n",
    "                    sticker.rotate(angle=angulo, axis=vector(0,1,0), origin=vector(0, 0, 0))\n",
    "                    stickers.append(sticker)\n",
    "            angulo = angulo + pi / 2\n",
    "        else:\n",
    "            for x in (-1, 0, 1):\n",
    "                for y in (-1, 0, 1):\n",
    "\n",
    "                    sticker = box(color=faces[cubo.tensor[face_color-1][x+1][y+1].item()], pos=vector(x, y, 1.5),\n",
    "                                  length=0.98, height=0.98, width=0.05)\n",
    "                    sticker.rotate(angle=angulo2, axis=vector(1,0,0), origin=vector(0, 0, 0))\n",
    "                    stickers.append(sticker)\n",
    "            angulo2 =- pi / 2\n",
    "    time.sleep(20)"
   ]
  },
  {
   "cell_type": "code",
   "execution_count": 15,
   "id": "07300135-15da-43a2-9053-c0611138bcfe",
   "metadata": {},
   "outputs": [
    {
     "ename": "NameError",
     "evalue": "name 'test' is not defined",
     "output_type": "error",
     "traceback": [
      "\u001b[1;31m---------------------------------------------------------------------------\u001b[0m",
      "\u001b[1;31mNameError\u001b[0m                                 Traceback (most recent call last)",
      "Input \u001b[1;32mIn [15]\u001b[0m, in \u001b[0;36m<cell line: 1>\u001b[1;34m()\u001b[0m\n\u001b[1;32m----> 1\u001b[0m \u001b[43mtest\u001b[49m[\u001b[38;5;241m0\u001b[39m]\n",
      "\u001b[1;31mNameError\u001b[0m: name 'test' is not defined"
     ]
    }
   ],
   "source": [
    "test[0]"
   ]
  },
  {
   "cell_type": "code",
   "execution_count": null,
   "id": "07af6afd-11fa-4e0f-86b1-20e1e1a9b276",
   "metadata": {},
   "outputs": [],
   "source": [
    "import torch.nn as nn\n",
    "\n",
    "class DeepQNetwork(nn.Module):\n",
    "    def __init__(self):\n",
    "        super(DeepQNetwork, self).__init__()\n",
    "\n",
    "        self.conv1 = nn.Sequential(nn.Linear(3*3*6, 128), nn.LeakyReLU(inplace=True))\n",
    "        self.conv2 = nn.Sequential(nn.Linear(128, 128), nn.LeakyReLU(inplace=True))\n",
    "        self.conv3 = nn.Sequential(nn.Linear(128, 1))\n",
    "\n",
    "    def forward(self, x):\n",
    "        x = self.conv1(x)\n",
    "        x = self.conv2(x)\n",
    "        x = self.conv3(x)\n",
    "\n",
    "        return x"
   ]
  },
  {
   "cell_type": "code",
   "execution_count": null,
   "id": "bc5581e9-3288-45ea-b3d9-87ad2f4a543a",
   "metadata": {},
   "outputs": [],
   "source": [
    "device = torch.device(\"cuda\" if torch.cuda.is_available() else \"cpu\")"
   ]
  },
  {
   "cell_type": "code",
   "execution_count": null,
   "id": "f0ab15bc-0641-496f-9337-828f5ab56147",
   "metadata": {},
   "outputs": [],
   "source": [
    "state = torch.zeros(3 ** 2 * 6, dtype=torch.uint8)\n",
    "for i in range(6):\n",
    "    state[3 ** 2 * i: 3 ** 2 * (i + 1)] = i"
   ]
  },
  {
   "cell_type": "code",
   "execution_count": null,
   "id": "55d41ff5-8614-46ec-ab82-0f4d94a7d7ae",
   "metadata": {},
   "outputs": [],
   "source": [
    "state"
   ]
  },
  {
   "cell_type": "code",
   "execution_count": null,
   "id": "2b54c950-2de0-40bb-9da0-0e6f2c8d02b5",
   "metadata": {},
   "outputs": [],
   "source": [
    "state[0:9]"
   ]
  },
  {
   "cell_type": "code",
   "execution_count": null,
   "id": "f1b8bbc2-f473-4748-85f2-33af0bc49b59",
   "metadata": {},
   "outputs": [],
   "source": [
    "test = cubo.tensor.flatten()"
   ]
  },
  {
   "cell_type": "code",
   "execution_count": null,
   "id": "b2012fa0-9eee-4b89-a2bc-2a335736b486",
   "metadata": {},
   "outputs": [],
   "source": [
    "test.float()"
   ]
  },
  {
   "cell_type": "code",
   "execution_count": null,
   "id": "3eb04ab1-0eac-4179-8ebb-6454c201648f",
   "metadata": {},
   "outputs": [],
   "source": [
    "model = DeepQNetwork()"
   ]
  },
  {
   "cell_type": "code",
   "execution_count": null,
   "id": "ac6721b7-a27e-4c17-b634-5b53a7379aea",
   "metadata": {},
   "outputs": [],
   "source": [
    "import copy\n",
    "target = copy.deepcopy(model)"
   ]
  },
  {
   "cell_type": "code",
   "execution_count": null,
   "id": "bcc45177-9e1b-4e08-88c5-62d015f568c5",
   "metadata": {},
   "outputs": [],
   "source": [
    "target(test.float())"
   ]
  },
  {
   "cell_type": "code",
   "execution_count": null,
   "id": "a08f80ab-7bc0-4d55-91d3-58dac2a06a95",
   "metadata": {},
   "outputs": [],
   "source": [
    "model(test.float())"
   ]
  },
  {
   "cell_type": "code",
   "execution_count": null,
   "id": "b763f6db-a3e5-4236-a48b-2b24ac2af6c2",
   "metadata": {},
   "outputs": [],
   "source": [
    "if torch.cuda.is_available():\n",
    "    torch.cuda.manual_seed(123)\n",
    "else:\n",
    "    torch.manual_seed(123)\n",
    "# env = Tetris(width=opt.width, height=opt.height, block_size=opt.block_size)\n",
    "model = DeepQNetwork()\n",
    "optimizer = torch.optim.Adam(model.parameters(), lr=1e-3)\n",
    "criterion = nn.MSELoss()\n",
    "cubo.Restart()\n",
    "data = cubo.tensor.flatten()\n",
    "state = data.float()\n",
    "if torch.cuda.is_available():\n",
    "    model.cuda()\n",
    "    state = state.cuda()\n",
    "\n",
    "replay_memory = deque(maxlen=30000)\n",
    "epoch = 0\n",
    "while epoch < opt.num_epochs:\n",
    "    next_steps = cubo.get_next_states()\n",
    "    # Exploration or exploitation\n",
    "    epsilon = opt.final_epsilon + (max(opt.num_decay_epochs - epoch, 0) * (\n",
    "            opt.initial_epsilon - opt.final_epsilon) / opt.num_decay_epochs)\n",
    "    u = random()\n",
    "    random_action = u <= epsilon\n",
    "    next_actions, next_states = zip(*next_steps.items())\n",
    "    next_states = torch.stack(next_states)\n",
    "    if torch.cuda.is_available():\n",
    "        next_states = next_states.cuda()\n",
    "    model.eval()\n",
    "    with torch.no_grad():\n",
    "        predictions = model(next_states)[:, 0]\n",
    "    model.train()\n",
    "    if random_action:\n",
    "        index = randint(0, len(next_steps) - 1)\n",
    "    else:\n",
    "        index = torch.argmax(predictions).item()\n",
    "\n",
    "    next_state = next_states[index, :]\n",
    "    action = next_actions[index]\n",
    "\n",
    "    reward, done = env.step(action, render=False)\n",
    "\n",
    "    if torch.cuda.is_available():\n",
    "        next_state = next_state.cuda()\n",
    "    replay_memory.append([state, reward, next_state, done])\n",
    "    if done:\n",
    "        final_score = env.score\n",
    "        final_tetrominoes = env.tetrominoes\n",
    "        final_cleared_lines = env.cleared_lines\n",
    "        state = env.reset()\n",
    "        if torch.cuda.is_available():\n",
    "            state = state.cuda()\n",
    "    else:\n",
    "        state = next_state\n",
    "        continue\n",
    "    if len(replay_memory) < opt.replay_memory_size / 10:\n",
    "        continue\n",
    "    epoch += 1\n",
    "    batch = sample(replay_memory, min(len(replay_memory), opt.batch_size))\n",
    "    state_batch, reward_batch, next_state_batch, done_batch = zip(*batch)\n",
    "    state_batch = torch.stack(tuple(state for state in state_batch))\n",
    "    reward_batch = torch.from_numpy(np.array(reward_batch, dtype=np.float32)[:, None])\n",
    "    next_state_batch = torch.stack(tuple(state for state in next_state_batch))\n",
    "\n",
    "    if torch.cuda.is_available():\n",
    "        state_batch = state_batch.cuda()\n",
    "        reward_batch = reward_batch.cuda()\n",
    "        next_state_batch = next_state_batch.cuda()\n",
    "\n",
    "    q_values = model(state_batch)\n",
    "    model.eval()\n",
    "    with torch.no_grad():\n",
    "        next_prediction_batch = model(next_state_batch)\n",
    "    model.train()\n",
    "\n",
    "    y_batch = torch.cat(\n",
    "        tuple(reward if done else reward + opt.gamma * prediction for reward, done, prediction in\n",
    "              zip(reward_batch, done_batch, next_prediction_batch)))[:, None]\n",
    "\n",
    "    optimizer.zero_grad()\n",
    "    loss = criterion(q_values, y_batch)\n",
    "    loss.backward()\n",
    "    optimizer.step()\n",
    "\n",
    "    print(\"Epoch: {}/{}, Action: {}, Score: {}, Tetrominoes {}, Cleared lines: {}\".format(\n",
    "        epoch,\n",
    "        opt.num_epochs,\n",
    "        action,\n",
    "        final_score,\n",
    "        final_tetrominoes,\n",
    "        final_cleared_lines))\n",
    "    writer.add_scalar('Train/Score', final_score, epoch - 1)\n",
    "    writer.add_scalar('Train/Tetrominoes', final_tetrominoes, epoch - 1)\n",
    "    writer.add_scalar('Train/Cleared lines', final_cleared_lines, epoch - 1)\n",
    "\n",
    "    if epoch > 0 and epoch % opt.save_interval == 0:\n",
    "        torch.save(model, \"{}/tetris_{}\".format(opt.saved_path, epoch))\n",
    "\n",
    "torch.save(model, \"{}/tetris\".format(opt.saved_path))"
   ]
  },
  {
   "cell_type": "code",
   "execution_count": null,
   "id": "334807d1-1812-4233-96f9-acd0937348b3",
   "metadata": {},
   "outputs": [],
   "source": []
  },
  {
   "cell_type": "code",
   "execution_count": null,
   "id": "a49a0d3c-45f3-4f7a-ab31-62b393591a0b",
   "metadata": {},
   "outputs": [],
   "source": []
  },
  {
   "cell_type": "code",
   "execution_count": null,
   "id": "8d234d19-e219-47b5-9e79-e205b9716b6b",
   "metadata": {},
   "outputs": [],
   "source": []
  },
  {
   "cell_type": "code",
   "execution_count": null,
   "id": "6bacdda1-7901-4322-9f4e-6ffce5f2d443",
   "metadata": {},
   "outputs": [],
   "source": []
  },
  {
   "cell_type": "code",
   "execution_count": null,
   "id": "d946aab5-6420-44d3-bdcb-e1dd9caae4cd",
   "metadata": {},
   "outputs": [],
   "source": [
    "from PIL import Image"
   ]
  },
  {
   "cell_type": "code",
   "execution_count": null,
   "id": "1c0c90bd-6719-4791-9601-b0d3f436711a",
   "metadata": {},
   "outputs": [],
   "source": [
    "im = Image.open('WIN_20211124_18_30_05_Pro.jpg')"
   ]
  },
  {
   "cell_type": "code",
   "execution_count": null,
   "id": "a3ba6ca9-ba3a-4e31-942e-a4f3e1f0346a",
   "metadata": {},
   "outputs": [],
   "source": [
    "im"
   ]
  },
  {
   "cell_type": "code",
   "execution_count": null,
   "id": "07dcd77b-6a0e-4c15-b494-04ef880a5c47",
   "metadata": {},
   "outputs": [],
   "source": [
    "test = im.load()"
   ]
  },
  {
   "cell_type": "code",
   "execution_count": null,
   "id": "f9d9c29e-69e6-4e68-ad9c-87e7485211f6",
   "metadata": {},
   "outputs": [],
   "source": [
    "im.size"
   ]
  },
  {
   "cell_type": "code",
   "execution_count": null,
   "id": "bc36584d-3129-4c08-94d1-315930fa743d",
   "metadata": {},
   "outputs": [],
   "source": [
    "for x in range(im.size[0]):\n",
    "    for y in range(im.size[1]):\n",
    "        if 300 < x < 340 and 50 < y < 100:\n",
    "            test[x,y] = (0,0,0)"
   ]
  },
  {
   "cell_type": "code",
   "execution_count": null,
   "id": "a2464d1c-49f0-454c-be68-e81212b0e9a8",
   "metadata": {},
   "outputs": [],
   "source": [
    "im"
   ]
  },
  {
   "cell_type": "code",
   "execution_count": null,
   "id": "5dc93ad5-02b6-4057-8552-2c847cceee13",
   "metadata": {},
   "outputs": [],
   "source": [
    "len(test.getdata())"
   ]
  },
  {
   "cell_type": "code",
   "execution_count": null,
   "id": "2e8c7784-db95-4b5f-b7a7-0cb701623d18",
   "metadata": {},
   "outputs": [],
   "source": [
    "test_rgb = test.convert('RGB')"
   ]
  },
  {
   "cell_type": "code",
   "execution_count": null,
   "id": "00b001f4-25ca-4eea-a592-94e25aa08de2",
   "metadata": {},
   "outputs": [],
   "source": [
    "test_rgb.getpixel((320,100))"
   ]
  },
  {
   "cell_type": "code",
   "execution_count": null,
   "id": "9588e73a-4b20-4592-b87d-8cc5dfb3cd84",
   "metadata": {},
   "outputs": [],
   "source": [
    "test_rgb"
   ]
  },
  {
   "cell_type": "code",
   "execution_count": null,
   "id": "01adcf72-03f8-45b5-a653-d38787da85b5",
   "metadata": {},
   "outputs": [],
   "source": [
    "test.size"
   ]
  },
  {
   "cell_type": "code",
   "execution_count": null,
   "id": "b9d86a76-297f-45e5-b4d5-2ebf26b93d03",
   "metadata": {},
   "outputs": [],
   "source": [
    "640*480"
   ]
  }
 ],
 "metadata": {
  "kernelspec": {
   "display_name": "Python 3 (ipykernel)",
   "language": "python",
   "name": "python3"
  },
  "language_info": {
   "codemirror_mode": {
    "name": "ipython",
    "version": 3
   },
   "file_extension": ".py",
   "mimetype": "text/x-python",
   "name": "python",
   "nbconvert_exporter": "python",
   "pygments_lexer": "ipython3",
   "version": "3.8.13"
  }
 },
 "nbformat": 4,
 "nbformat_minor": 5
}
